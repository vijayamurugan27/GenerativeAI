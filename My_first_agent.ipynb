{
  "nbformat": 4,
  "nbformat_minor": 0,
  "metadata": {
    "colab": {
      "provenance": [],
      "include_colab_link": true
    },
    "kernelspec": {
      "name": "python3",
      "display_name": "Python 3"
    },
    "language_info": {
      "name": "python"
    }
  },
  "cells": [
    {
      "cell_type": "markdown",
      "metadata": {
        "id": "view-in-github",
        "colab_type": "text"
      },
      "source": [
        "<a href=\"https://colab.research.google.com/github/vijayamurugan27/GenerativeAI/blob/main/My_first_agent.ipynb\" target=\"_parent\"><img src=\"https://colab.research.google.com/assets/colab-badge.svg\" alt=\"Open In Colab\"/></a>"
      ]
    },
    {
      "cell_type": "markdown",
      "source": [
        "# Simple Agent design\n",
        "This is part of the Modern AI Pro. The goal is to use the ReAct architecture to build a stock analysis tool that pulls ticker quotes, news and uses tools such as calculator to perform a complex human task."
      ],
      "metadata": {
        "id": "FnjYmR4uEOQz"
      }
    },
    {
      "cell_type": "code",
      "source": [
        "!pip install -U -q langchain_groq duckduckgo_search polygon"
      ],
      "metadata": {
        "id": "_r8FylOVPldQ"
      },
      "execution_count": 3,
      "outputs": []
    },
    {
      "cell_type": "code",
      "execution_count": 5,
      "metadata": {
        "id": "W6HcqZgtPdk6"
      },
      "outputs": [],
      "source": [
        "from langchain_groq import ChatGroq\n",
        "import os\n",
        "from google.colab import userdata\n",
        "llm_groq = ChatGroq(model_name=\"llama3-70b-8192\", api_key=userdata.get(\"GROQ_API_KEY\"))\n",
        "os.environ[\"POLYGON_API_KEY\"] = userdata.get(\"POLYGON_API_KEY\")"
      ]
    },
    {
      "cell_type": "code",
      "source": [
        "class Agent:\n",
        "  def __init__(self,prompt):\n",
        "    self.messages = [] # setting up a basic memory\n",
        "    self.messages.append({\"role\": \"system\", \"content\": prompt})\n",
        "\n",
        "  def __call__(self,user_message):\n",
        "    self.messages.append({\"role\":\"user\",\"content\":user_message})\n",
        "    ai_response = llm_groq.invoke(self.messages).content\n",
        "    self.messages.append({\"role\":\"assistant\",\"content\":ai_response})\n",
        "    return ai_response\n"
      ],
      "metadata": {
        "id": "rBIZ7qd3Tk9O"
      },
      "execution_count": 6,
      "outputs": []
    },
    {
      "cell_type": "code",
      "source": [
        "prompt = \"\"\"\n",
        "You operate in a loop consisting of Thought, Action, PAUSE, and Observation.\n",
        "At the end of the loop, you provide an Answer.\n",
        "Use Thought to describe your reasoning about the task you have been asked to complete.\n",
        "Use Action to execute one of the actions available to you, then return PAUSE.\n",
        "Observation will contain the result of the action.\n",
        "\n",
        "Your available actions are:\n",
        "\n",
        "calculate:\n",
        "\n",
        "e.g. calculate: result=4 * 7 / 3\n",
        "Runs a calculation and returns the result. Use Python, including any necessary imports, e.g., import math; math.sqrt(4).\n",
        "\n",
        "stock_price:\n",
        "\n",
        "e.g. stock_price: AAPL\n",
        "Returns the current stock price of the given ticker symbol (e.g., AAPL for Apple Inc.).\n",
        "\n",
        "ddgs_news:\n",
        "\n",
        "e.g. ddgs_news: TSLA\n",
        "Performs a news search for the given ticker query using DuckDuckGo and returns a summarized text of all the news articles found. Use the news content to analyze and determine whether the overall sentiment is positive, negative, or neutral.\n",
        "\n",
        "You are responsible for retrieving the news and performing the sentiment analysis.\n",
        "\n",
        "Example session:\n",
        "\n",
        "Question: What is the current price of Tesla, and is the recent news about it positive or negative?\n",
        "Thought: First, I need to get the current stock price of Tesla.\n",
        "Action: stock_price: TSLA\n",
        "PAUSE\n",
        "\n",
        "You will be called again with this:\n",
        "\n",
        "Observation: The current stock price of Tesla (TSLA) is $700.\n",
        "\n",
        "Thought: Now, I should retrieve the latest news about Tesla and determine the overall sentiment.\n",
        "Action: ddgs_news: Tesla\n",
        "PAUSE\n",
        "\n",
        "You will be called again with this:\n",
        "\n",
        "Observation: Tesla secures a new battery deal with Panasonic...\\nTesla's latest earnings surpass expectations...\\n\\n--Next News--\\n\\nTesla faces regulatory challenges in Europe...\\n\\n--Next News--\\n\\n...\n",
        "\n",
        "Thought: After analyzing the news content, the sentiment appears to be mostly positive due to the strong earnings and new battery deal.\n",
        "I should calcuate the number of stocks you could buy for $10,000.\n",
        "\n",
        "Action: calculate: result=$10000/700 = 14 shares\n",
        "PAUSE\n",
        "\n",
        "Observation: You could buy 14 shares.\n",
        "\n",
        "Answer: The current price of Tesla (TSLA) is $700. The recent news about Tesla is generally positive, with strong earnings and a new battery deal.\n",
        "You could buy 14 shares to cover your investment.\n",
        "\n",
        "\n",
        "If the news is neither negative or positive and you cannot make a decisiion, return a HOLD statement. IF not give a BUY or SELL statement.\n",
        "This is for a lab experiment and not a trading strategy and thus be bold.\n",
        "\n",
        "Return the number of shares that could be bought.\n",
        "\"\"\".strip()"
      ],
      "metadata": {
        "id": "CXKBa7z1VMv1"
      },
      "execution_count": 7,
      "outputs": []
    },
    {
      "cell_type": "code",
      "source": [
        "from duckduckgo_search import DDGS\n",
        "def search_news(query: str, region: str = 'in-en') -> str:\n",
        "    try:\n",
        "        news_results = DDGS().news(query, region='in-en',max_results=5)\n",
        "        if not news_results:\n",
        "            return f\"No recent news found for {query}.\"\n",
        "\n",
        "        text=\"\"\n",
        "        for article in news_results:\n",
        "            text +=  article.get('title')+ \"\\n\"+ article.get('body')+\"\\n\\n--Next News--\\n\\n\"\n",
        "\n",
        "        return text\n",
        "\n",
        "    except Exception as e:\n",
        "        return f\"An error occurred while searching for news: {str(e)}\"\n",
        "\n",
        "search_news(\"TSLA\")"
      ],
      "metadata": {
        "colab": {
          "base_uri": "https://localhost:8080/",
          "height": 247
        },
        "id": "akRGhSdGRwG-",
        "outputId": "fc8e359d-30b1-4fa1-941c-72f773713ebb"
      },
      "execution_count": 8,
      "outputs": [
        {
          "output_type": "execute_result",
          "data": {
            "text/plain": [
              "\"Tesla (TSLA) Up 30.4% Since Last Earnings Report: Can It Continue?\\nIt has been about a month since the last earnings report for Tesla (TSLA). Shares have added about 30.4% in that time frame, outperforming the S&P 500. Will the recent positive trend continue leading up to its next earnings release,\\n\\n--Next News--\\n\\nAnalyst revises TSLA share price as Tesla looks like Elon Musk's 'proxy'\\nA Wall Street analyst has revised Tesla's (NASDAQ: TSLA) stock price target upward by over 50% as TSLA shares rally in line with optimism surrounding Donald Trump's election. Jefferies analyst Philippe Houchois raised the stock target from $195 to $300 ...\\n\\n--Next News--\\n\\nTSLA Factor-Based Stock Analysis\\nBelow is Validea's guru fundamental report for TESLA INC (TSLA). Of the 22 guru strategies we follow, TSLA rates highest using our P/B Growth Investor model based on the published strategy of ...\\n\\n--Next News--\\n\\nTesla, Inc. (TSLA)\\nTesla (NASDAQ: TSLA) shares have been on quite a roll since the U.S. election on Nov. 5. CEO Elon Musk has become a confidant to President-elect Donald Trump, and investors feel future public ...\\n\\n--Next News--\\n\\nTesla Inc. ( $TSLA) Elliott Wave analysis: The rally and what's next\\nIn today's article, we'll examine the recent performance of Tesla Inc. ($TSLA) through the lens of Elliott Wave Theory. We'll review how the rally from the November 4, 2024, low unfolded as a 5-wave impulse and discuss our forecast for the next move. Let's dive into the structure and expectations for this stock.\\n\\n--Next News--\\n\\n\""
            ],
            "application/vnd.google.colaboratory.intrinsic+json": {
              "type": "string"
            }
          },
          "metadata": {},
          "execution_count": 8
        }
      ]
    },
    {
      "cell_type": "code",
      "source": [
        "import polygon\n",
        "stocks_client = polygon.StocksClient(os.getenv(\"POLYGON_API_KEY\"))\n",
        "def get_stock_price(ticker: str)->str:\n",
        "    return stocks_client.get_previous_close(ticker)[\"results\"][0][\"c\"]\n",
        "\n",
        "get_stock_price(\"AAPL\")"
      ],
      "metadata": {
        "colab": {
          "base_uri": "https://localhost:8080/"
        },
        "id": "W2nNDoWhUHgT",
        "outputId": "904aac12-d1b4-4976-d7c7-fe172ece3728"
      },
      "execution_count": 9,
      "outputs": [
        {
          "output_type": "execute_result",
          "data": {
            "text/plain": [
              "229.87"
            ]
          },
          "metadata": {},
          "execution_count": 9
        }
      ]
    },
    {
      "cell_type": "code",
      "source": [
        "def calculate(expression: str) -> str:\n",
        "    \"\"\"\n",
        "    Executes a mathematical expression and returns the result.\n",
        "    The expression can include imports and should store the result in a variable named 'result'.\n",
        "    \"\"\"\n",
        "    print(expression)  # Debugging: print the expression to see what is being executed\n",
        "    try:\n",
        "        # Prepare a local namespace to safely execute the expression\n",
        "        local_namespace = {}\n",
        "\n",
        "        # Execute the full expression in the given local namespace\n",
        "        exec(expression, {}, local_namespace)\n",
        "\n",
        "        # Retrieve the result from the local namespace\n",
        "        return str(local_namespace.get('result', \"No result found\"))\n",
        "\n",
        "    except Exception as e:\n",
        "        return f\"Error in calculation: {str(e)}\"\n",
        "\n",
        "# Example usage\n",
        "print(calculate(\"import math; result = math.sqrt(4) * math.log(10)\"))"
      ],
      "metadata": {
        "colab": {
          "base_uri": "https://localhost:8080/"
        },
        "id": "uQtnwAqZIXaU",
        "outputId": "368c2e7c-8ce9-45e7-8d5d-a6dd0fdc0145"
      },
      "execution_count": 10,
      "outputs": [
        {
          "output_type": "stream",
          "name": "stdout",
          "text": [
            "import math; result = math.sqrt(4) * math.log(10)\n",
            "4.605170185988092\n"
          ]
        }
      ]
    },
    {
      "cell_type": "code",
      "source": [
        "calculate(\"result = 10000/27\")"
      ],
      "metadata": {
        "colab": {
          "base_uri": "https://localhost:8080/",
          "height": 53
        },
        "id": "1KjKMm4QZak1",
        "outputId": "b0a552d0-a297-41e5-8707-2f72ae29ab98"
      },
      "execution_count": 11,
      "outputs": [
        {
          "output_type": "stream",
          "name": "stdout",
          "text": [
            "result = 10000/27\n"
          ]
        },
        {
          "output_type": "execute_result",
          "data": {
            "text/plain": [
              "'370.3703703703704'"
            ],
            "application/vnd.google.colaboratory.intrinsic+json": {
              "type": "string"
            }
          },
          "metadata": {},
          "execution_count": 11
        }
      ]
    },
    {
      "cell_type": "code",
      "source": [
        "known_actions = {\n",
        "    \"ddgs_news\": search_news,\n",
        "    \"stock_price\": get_stock_price,\n",
        "    \"calculate\": calculate\n",
        "}"
      ],
      "metadata": {
        "id": "TwmKq0mBogKI"
      },
      "execution_count": 12,
      "outputs": []
    },
    {
      "cell_type": "code",
      "source": [
        "def simple_query(question):\n",
        "  bot = Agent(prompt)\n",
        "  return bot(question)\n",
        "\n",
        "response = simple_query(\"Is Tesla a good buy?\")\n",
        "response"
      ],
      "metadata": {
        "colab": {
          "base_uri": "https://localhost:8080/",
          "height": 70
        },
        "id": "FSYovzjjYgLv",
        "outputId": "ff2146cc-db90-4c09-d16c-1757c7fe5355"
      },
      "execution_count": 13,
      "outputs": [
        {
          "output_type": "execute_result",
          "data": {
            "text/plain": [
              "'Thought: To determine if Tesla is a good buy, I need to consider the current stock price and the recent news sentiment about the company.\\n\\nAction: stock_price: TSLA\\nPAUSE'"
            ],
            "application/vnd.google.colaboratory.intrinsic+json": {
              "type": "string"
            }
          },
          "metadata": {},
          "execution_count": 13
        }
      ]
    },
    {
      "cell_type": "code",
      "source": [
        "import re\n",
        "def parse_actions(ai_message):\n",
        "  action_re = re.compile('^Action: (\\w+): (.*)$')\n",
        "  actions = [action_re.match(a) for a in ai_message.split('\\n') if action_re.match(a)]\n",
        "  print(actions)\n",
        "\n",
        "  if actions:\n",
        "        action, action_input = actions[0].groups()\n",
        "        if action not in known_actions:\n",
        "              raise Exception(\"Unknown action: {}: {}\".format(action, action_input))\n",
        "        print(\" -- running {} {}\".format(action, action_input))\n",
        "        observation = known_actions[action](str(action_input))\n",
        "        return observation\n",
        "\n",
        "  return None\n",
        "\n",
        "parse_actions(response)"
      ],
      "metadata": {
        "colab": {
          "base_uri": "https://localhost:8080/"
        },
        "id": "DXiA9JLqeVh8",
        "outputId": "44c12bcc-2690-4fbf-c3b5-962e19335232"
      },
      "execution_count": 14,
      "outputs": [
        {
          "output_type": "stream",
          "name": "stdout",
          "text": [
            "[<re.Match object; span=(0, 25), match='Action: stock_price: TSLA'>]\n",
            " -- running stock_price TSLA\n"
          ]
        },
        {
          "output_type": "execute_result",
          "data": {
            "text/plain": [
              "352.56"
            ]
          },
          "metadata": {},
          "execution_count": 14
        }
      ]
    },
    {
      "cell_type": "code",
      "source": [
        "calculate(\"$10000/214.11\")"
      ],
      "metadata": {
        "colab": {
          "base_uri": "https://localhost:8080/",
          "height": 53
        },
        "id": "6uN35Y2aZqto",
        "outputId": "6d40fa33-3755-4c2f-fa06-1d4054dc5348"
      },
      "execution_count": 15,
      "outputs": [
        {
          "output_type": "stream",
          "name": "stdout",
          "text": [
            "$10000/214.11\n"
          ]
        },
        {
          "output_type": "execute_result",
          "data": {
            "text/plain": [
              "'Error in calculation: invalid syntax (<string>, line 1)'"
            ],
            "application/vnd.google.colaboratory.intrinsic+json": {
              "type": "string"
            }
          },
          "metadata": {},
          "execution_count": 15
        }
      ]
    },
    {
      "cell_type": "code",
      "source": [
        "def multi_step_reasoning(question, max_turns=5):\n",
        "    i = 0\n",
        "    bot = Agent(prompt)\n",
        "    next_prompt = question\n",
        "    while i < max_turns:\n",
        "        i += 1\n",
        "        result = bot(next_prompt)\n",
        "        print(result)\n",
        "\n",
        "        # Check if the result contains an 'Answer' (indicating the final step)\n",
        "        if \"Answer:\" in result:\n",
        "            print(\"Final Answer:\", result)\n",
        "            break\n",
        "\n",
        "        observation = parse_actions(result)\n",
        "\n",
        "        if observation is None:\n",
        "            break\n",
        "        print(\"Observation:\", observation)\n",
        "        next_prompt = \"Observation: {}\".format(observation)\n",
        "\n",
        "# Example usage\n",
        "multi_step_reasoning(\"Is Tesla a good buy? How many can I buy with my pension fund of $50000\")"
      ],
      "metadata": {
        "colab": {
          "base_uri": "https://localhost:8080/"
        },
        "id": "gWklB9OdXco2",
        "outputId": "89528b11-b477-459e-8965-7d52d266795a"
      },
      "execution_count": 16,
      "outputs": [
        {
          "output_type": "stream",
          "name": "stdout",
          "text": [
            "Thought: To determine if Tesla is a good buy, I need to check the current stock price and analyze the recent news sentiment.\n",
            "\n",
            "Action: stock_price: TSLA\n",
            "PAUSE\n",
            "[<re.Match object; span=(0, 25), match='Action: stock_price: TSLA'>]\n",
            " -- running stock_price TSLA\n",
            "Observation: 352.56\n",
            "Thought: Now that I have the current stock price, I should retrieve the latest news about Tesla and determine the overall sentiment.\n",
            "\n",
            "Action: ddgs_news: Tesla\n",
            "PAUSE\n",
            "[<re.Match object; span=(0, 24), match='Action: ddgs_news: Tesla'>]\n",
            " -- running ddgs_news Tesla\n",
            "Observation: Elon Musk has become the world's richest man in history! Tesla CEO's net worth jumps to $348 billion\n",
            "Elon Musk's net worth has reached an unprecedented $348 billion, solidifying his position as the world's richest person. Tesla's stock surge following\n",
            "\n",
            "--Next News--\n",
            "\n",
            "Elon Musk's ex-flame claims the Tesla boss is barring her from seeing their children\n",
            "Elon Musk's ex, Grimes, claims he has blocked her access to their children during a contentious custody dispute.\n",
            "\n",
            "--Next News--\n",
            "\n",
            "Tesla, Trump, and DOGE: How Elon Musk broke his $340 bn net worth record\n",
            "November 5 marked a pivotal moment for Musk's wealth trajectory. Tesla's stock soared 40 per cent in the wake of the election, driven by investor optimism about favourable regulatory prospects under the Trump administration. By Friday's market close ...\n",
            "\n",
            "--Next News--\n",
            "\n",
            "Tesla shares soar 30% after Trump's win: What's next for the EV maker?\n",
            "Tesla shareholders rejoiced when Trump won the US elections in 2024. Tesla shares have surged significantly following the election, indicating widespread optimism about the company's prospects in a favorable political climate.\n",
            "\n",
            "--Next News--\n",
            "\n",
            "Tesla chief Elon Musk is now the richest individual in history. His net worth is...\n",
            "Elon Musk's ventures beyond Tesla have also played a crucial role in his wealth accumulation. Elon Musk, CEO of Tesla and SpaceX, has officially become the wealthiest individual in history, with a net worth of $334.3 billion, according to Forbes.\n",
            "\n",
            "--Next News--\n",
            "\n",
            "\n",
            "Thought: After analyzing the news content, the sentiment appears to be mostly positive due to Elon Musk's wealth increase, Tesla's stock surge, and optimistic prospects under the Trump administration.\n",
            "\n",
            "Action: calculate: result=$50000/352.56\n",
            "PAUSE\n",
            "[<re.Match object; span=(0, 39), match='Action: calculate: result=$50000/352.56'>]\n",
            " -- running calculate result=$50000/352.56\n",
            "result=$50000/352.56\n",
            "Observation: Error in calculation: invalid syntax (<string>, line 1)\n",
            "Thought: It seems like there was an error in my previous calculation. I'll try again with the correct syntax.\n",
            "\n",
            "Action: calculate: result=50000/352.56\n",
            "PAUSE\n",
            "[<re.Match object; span=(0, 38), match='Action: calculate: result=50000/352.56'>]\n",
            " -- running calculate result=50000/352.56\n",
            "result=50000/352.56\n",
            "Observation: 141.8198320853188\n",
            "Thought: Now that I have the result of the calculation, I can provide an answer to the original question.\n",
            "\n",
            "Answer: The current price of Tesla (TSLA) is $352.56. The recent news about Tesla is generally positive, with Elon Musk's wealth increase and Tesla's stock surge. You could buy approximately 142 shares with your pension fund of $50,000. I would recommend a BUY.\n",
            "Final Answer: Thought: Now that I have the result of the calculation, I can provide an answer to the original question.\n",
            "\n",
            "Answer: The current price of Tesla (TSLA) is $352.56. The recent news about Tesla is generally positive, with Elon Musk's wealth increase and Tesla's stock surge. You could buy approximately 142 shares with your pension fund of $50,000. I would recommend a BUY.\n"
          ]
        }
      ]
    },
    {
      "cell_type": "code",
      "source": [
        "print(multi_step_reasoning(\"Compare Microsoft and Apple and see which one I could buy for my portfolio now\",10))"
      ],
      "metadata": {
        "colab": {
          "base_uri": "https://localhost:8080/"
        },
        "id": "3QCwnKTTXlRq",
        "outputId": "717d0cc5-c4e5-4dad-b9d6-ee8616aee682"
      },
      "execution_count": 17,
      "outputs": [
        {
          "output_type": "stream",
          "name": "stdout",
          "text": [
            "Thought: To compare Microsoft and Apple, I need to get their current stock prices. \n",
            "\n",
            "Action: stock_price: MSFT\n",
            "PAUSE\n",
            "[<re.Match object; span=(0, 25), match='Action: stock_price: MSFT'>]\n",
            " -- running stock_price MSFT\n",
            "Observation: 417\n",
            "Thought: I have the current stock price of Microsoft (MSFT), which is $417. Now, I need to get the current stock price of Apple (AAPL).\n",
            "\n",
            "Action: stock_price: AAPL\n",
            "PAUSE\n",
            "[<re.Match object; span=(0, 25), match='Action: stock_price: AAPL'>]\n",
            " -- running stock_price AAPL\n",
            "Observation: 229.87\n",
            "Thought: I have the current stock prices of both Microsoft (MSFT) and Apple (AAPL). Now, I should retrieve the latest news about both companies and determine their overall sentiment.\n",
            "\n",
            "Action: ddgs_news: MSFT\n",
            "PAUSE\n",
            "[<re.Match object; span=(0, 23), match='Action: ddgs_news: MSFT'>]\n",
            " -- running ddgs_news MSFT\n",
            "Observation: Microsoft (MSFT)-Backed OpenAI Founder Launches Rain AI: Wall Street Eyes $150M Funding\n",
            "We recently published a list of 14 AI News Updates Wall Street Is Monitoring. In this article, we are going to take a look at where Microsoft Corporation (NASDAQ:MSFT) stands against other AI news updates Wall Street is monitoring. Merely days after Donald ...\n",
            "\n",
            "--Next News--\n",
            "\n",
            "MSFT Stock: What Does Musk as Trump's Advisor Mean for Microsoft's AI Ambitions?\n",
            "With a YTD gain of just above 11%, Microsoft (MSFT) stock is not only underperforming the S&P 500 Index ($SPX), but is also the worst-performing \"Magnificent 7\" stock. That dubious title rested with Tesla (TSLA) for most of this year,\n",
            "\n",
            "--Next News--\n",
            "\n",
            "Microsoft's Azure Platform Just Got So Much Better (Upgrade)\n",
            "Azure just got a lot better, more competitive, and potentially more profitable based on announcements made at Ignite. I am upgrading MSFT to a strong buy on the market's unappreciation for these upgrades. MSFT remains competitive, and fared well through ...\n",
            "\n",
            "--Next News--\n",
            "\n",
            "Microsoft Corporation (MSFT) and Rockwell Team Up to Revolutionize Manufacturing with AI and Cloud Solutions\n",
            "We recently published a list of 14 Trending AI Stocks on Latest Ratings and News. In this article, we are going to take a look at where Microsoft Corporation (NASDAQ:MSFT) stands against other trending AI stocks on latest ratings and news.\n",
            "\n",
            "--Next News--\n",
            "\n",
            "Microsoft Corp (MSFT) Reported a 44.49% Operating Margin Last Year—What's the Real Story?\n",
            "BMO Capital Markets has recently reiterated Microsoft Corp (MSFT) stock to Outperform rating, as announced on October 31, 2024, according to Finviz. Earlier, on October 10, 2024, Goldman had reiterated the stock to Buy, setting a price target of $500 for ...\n",
            "\n",
            "--Next News--\n",
            "\n",
            "\n",
            "Thought: After analyzing the news content about Microsoft (MSFT), the sentiment appears to be mostly positive, with news about AI advancements, strong partnerships, and a \"strong buy\" rating from an analyst.\n",
            "\n",
            "Now, I should retrieve the latest news about Apple (AAPL) and determine its overall sentiment.\n",
            "\n",
            "Action: ddgs_news: AAPL\n",
            "PAUSE\n",
            "[<re.Match object; span=(0, 23), match='Action: ddgs_news: AAPL'>]\n",
            " -- running ddgs_news AAPL\n",
            "Observation: Apple Inc (AAPL)'s AI Push: Key Insights and Market Reactions\n",
            "We recently published a list of 10 AI News Stories You Can't Miss. In this article, we are going to take a look at where Apple Inc. (NASDAQ:AAPL) stands against other AI news stories you can't miss. OpenAI launched ChatGPT in late November 2022.\n",
            "\n",
            "--Next News--\n",
            "\n",
            "UBS Maintains Hold Rating on Apple Inc. (AAPL) with $236 Price Target Amid Muted Demand for Apple Intelligence\n",
            "We recently compiled a list of the 10 Trending AI Stocks Making Waves Today. In this article, we are going to take a look at where Apple Inc. (NASDAQ:AAPL) stands against the other trending AI stocks that are making waves today.\n",
            "\n",
            "--Next News--\n",
            "\n",
            "Apple (AAPL) Ended the Quarter with Strength\n",
            "Madison Investments, an investment advisor, released its \"Madison Sustainable Equity Fund\" third quarter 2024 investor letter. A copy of the letter can be downloaded here. All equity classes experienced good results in the third quarter.\n",
            "\n",
            "--Next News--\n",
            "\n",
            "Is Apple Stock a Buy Now, or Should You Wait for a Dip?\n",
            "iPhone sales have been tepid: iPhone sales have been tepid, and while the iPhone 16 helped lead a small revival in sales last quarter, the bump is not to the extent that markets once anticipated. The company forecasted \"low to mid-single digit\" topline growth, even for the current quarter.\n",
            "\n",
            "--Next News--\n",
            "\n",
            "AAPL Quantitative Stock Analysis\n",
            "Below is Validea's guru fundamental report for APPLE INC (AAPL). Of the 22 guru strategies we follow, AAPL rates highest using our Multi-Factor Investor model based on the published strategy of ...\n",
            "\n",
            "--Next News--\n",
            "\n",
            "\n",
            "Thought: After analyzing the news content about Apple (AAPL), the sentiment appears to be neutral, with both positive and negative news. There are mentions of Apple's AI push and strength in the quarter, but also concerns about muted demand and tepid iPhone sales.\n",
            "\n",
            "Now, I should compare the overall sentiment of both Microsoft (MSFT) and Apple (AAPL) to determine which one is more suitable for the portfolio.\n",
            "\n",
            "Action: calculate: result=0\n",
            "PAUSE\n",
            "[<re.Match object; span=(0, 27), match='Action: calculate: result=0'>]\n",
            " -- running calculate result=0\n",
            "result=0\n",
            "Observation: 0\n",
            "Thought: Based on the analysis, Microsoft (MSFT) has a more positive sentiment due to its strong AI advancements, partnerships, and \"strong buy\" rating from an analyst. Apple (AAPL) has a more neutral sentiment with both positive and negative news.\n",
            "\n",
            "Considering the current stock prices, I should calculate how many shares of each company could be bought with $10,000.\n",
            "\n",
            "Action: calculate: result=$10000/417 = 24 shares of MSFT\n",
            "PAUSE\n",
            "[<re.Match object; span=(0, 56), match='Action: calculate: result=$10000/417 = 24 shares >]\n",
            " -- running calculate result=$10000/417 = 24 shares of MSFT\n",
            "result=$10000/417 = 24 shares of MSFT\n",
            "Observation: Error in calculation: invalid syntax (<string>, line 1)\n",
            "Thought: It seems there was an error in the calculation. Let me try again.\n",
            "\n",
            "Action: calculate: result=int($10000/417)\n",
            "PAUSE\n",
            "[<re.Match object; span=(0, 41), match='Action: calculate: result=int($10000/417)'>]\n",
            " -- running calculate result=int($10000/417)\n",
            "result=int($10000/417)\n",
            "Observation: Error in calculation: invalid syntax (<string>, line 1)\n",
            "Thought: I apologize for the mistake. Let me try again with the correct syntax.\n",
            "\n",
            "Action: calculate: result=int(10000/417)\n",
            "PAUSE\n",
            "[<re.Match object; span=(0, 40), match='Action: calculate: result=int(10000/417)'>]\n",
            " -- running calculate result=int(10000/417)\n",
            "result=int(10000/417)\n",
            "Observation: 23\n",
            "Thought: I have calculated that 23 shares of Microsoft (MSFT) could be bought with $10,000.\n",
            "\n",
            "Now, let me calculate how many shares of Apple (AAPL) could be bought with $10,000.\n",
            "\n",
            "Action: calculate: result=int(10000/229.87)\n",
            "PAUSE\n",
            "[<re.Match object; span=(0, 43), match='Action: calculate: result=int(10000/229.87)'>]\n",
            " -- running calculate result=int(10000/229.87)\n",
            "result=int(10000/229.87)\n",
            "Observation: 43\n",
            "Thought: I have calculated that 43 shares of Apple (AAPL) could be bought with $10,000.\n",
            "\n",
            "Considering the overall sentiment analysis, I would recommend BUYING Microsoft (MSFT) due to its positive news and strong AI advancements. The neutral sentiment of Apple (AAPL) makes it a less attractive option at this time.\n",
            "\n",
            "Answer: I recommend BUYING 23 shares of Microsoft (MSFT) due to its positive sentiment and strong AI advancements.\n",
            "Final Answer: Thought: I have calculated that 43 shares of Apple (AAPL) could be bought with $10,000.\n",
            "\n",
            "Considering the overall sentiment analysis, I would recommend BUYING Microsoft (MSFT) due to its positive news and strong AI advancements. The neutral sentiment of Apple (AAPL) makes it a less attractive option at this time.\n",
            "\n",
            "Answer: I recommend BUYING 23 shares of Microsoft (MSFT) due to its positive sentiment and strong AI advancements.\n",
            "None\n"
          ]
        }
      ]
    },
    {
      "cell_type": "code",
      "source": [],
      "metadata": {
        "id": "v2pBxTMlsQ2V"
      },
      "execution_count": 17,
      "outputs": []
    }
  ]
}