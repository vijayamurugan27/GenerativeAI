{
  "nbformat": 4,
  "nbformat_minor": 0,
  "metadata": {
    "colab": {
      "provenance": [],
      "include_colab_link": true
    },
    "kernelspec": {
      "name": "python3",
      "display_name": "Python 3"
    },
    "language_info": {
      "name": "python"
    }
  },
  "cells": [
    {
      "cell_type": "markdown",
      "metadata": {
        "id": "view-in-github",
        "colab_type": "text"
      },
      "source": [
        "<a href=\"https://colab.research.google.com/github/vijayamurugan27/GenerativeAI/blob/main/Real_time_info_with_LLM.ipynb\" target=\"_parent\"><img src=\"https://colab.research.google.com/assets/colab-badge.svg\" alt=\"Open In Colab\"/></a>"
      ]
    },
    {
      "cell_type": "code",
      "execution_count": 1,
      "metadata": {
        "id": "-Y7iiT9ctSTt",
        "colab": {
          "base_uri": "https://localhost:8080/"
        },
        "outputId": "17735e7a-2357-40f5-b94b-05a37a72a229"
      },
      "outputs": [
        {
          "output_type": "stream",
          "name": "stdout",
          "text": [
            "\u001b[2K   \u001b[90m━━━━━━━━━━━━━━━━━━━━━━━━━━━━━━━━━━━━━━━━\u001b[0m \u001b[32m57.1/57.1 MB\u001b[0m \u001b[31m12.5 MB/s\u001b[0m eta \u001b[36m0:00:00\u001b[0m\n",
            "\u001b[2K   \u001b[90m━━━━━━━━━━━━━━━━━━━━━━━━━━━━━━━━━━━━━━━━\u001b[0m \u001b[32m320.1/320.1 kB\u001b[0m \u001b[31m16.6 MB/s\u001b[0m eta \u001b[36m0:00:00\u001b[0m\n",
            "\u001b[2K   \u001b[90m━━━━━━━━━━━━━━━━━━━━━━━━━━━━━━━━━━━━━━━━\u001b[0m \u001b[32m94.9/94.9 kB\u001b[0m \u001b[31m6.1 MB/s\u001b[0m eta \u001b[36m0:00:00\u001b[0m\n",
            "\u001b[2K   \u001b[90m━━━━━━━━━━━━━━━━━━━━━━━━━━━━━━━━━━━━━━━━\u001b[0m \u001b[32m108.9/108.9 kB\u001b[0m \u001b[31m7.8 MB/s\u001b[0m eta \u001b[36m0:00:00\u001b[0m\n",
            "\u001b[2K   \u001b[90m━━━━━━━━━━━━━━━━━━━━━━━━━━━━━━━━━━━━━━━━\u001b[0m \u001b[32m11.1/11.1 MB\u001b[0m \u001b[31m71.3 MB/s\u001b[0m eta \u001b[36m0:00:00\u001b[0m\n",
            "\u001b[2K   \u001b[90m━━━━━━━━━━━━━━━━━━━━━━━━━━━━━━━━━━━━━━━━\u001b[0m \u001b[32m73.2/73.2 kB\u001b[0m \u001b[31m5.3 MB/s\u001b[0m eta \u001b[36m0:00:00\u001b[0m\n",
            "\u001b[2K   \u001b[90m━━━━━━━━━━━━━━━━━━━━━━━━━━━━━━━━━━━━━━━━\u001b[0m \u001b[32m63.8/63.8 kB\u001b[0m \u001b[31m4.9 MB/s\u001b[0m eta \u001b[36m0:00:00\u001b[0m\n",
            "\u001b[2K   \u001b[90m━━━━━━━━━━━━━━━━━━━━━━━━━━━━━━━━━━━━━━━━\u001b[0m \u001b[32m130.2/130.2 kB\u001b[0m \u001b[31m8.9 MB/s\u001b[0m eta \u001b[36m0:00:00\u001b[0m\n",
            "\u001b[?25h"
          ]
        }
      ],
      "source": [
        "!pip install -U -q langchain_groq gradio\n",
        "\n",
        "from langchain_groq import ChatGroq\n",
        "from google.colab import userdata\n",
        "llm_groq = ChatGroq(model_name=\"llama3-70b-8192\", api_key=userdata.get(\"GROQ_API_KEY\"))"
      ]
    },
    {
      "cell_type": "code",
      "source": [
        "!pip install -U duckduckgo_search\n",
        "from duckduckgo_search import DDGS"
      ],
      "metadata": {
        "id": "lzUV6qfKuQlO",
        "colab": {
          "base_uri": "https://localhost:8080/"
        },
        "outputId": "3a3bfb4b-943c-4b25-b989-4abd49c1a6c2"
      },
      "execution_count": 2,
      "outputs": [
        {
          "output_type": "stream",
          "name": "stdout",
          "text": [
            "Collecting duckduckgo_search\n",
            "  Downloading duckduckgo_search-6.3.6-py3-none-any.whl.metadata (25 kB)\n",
            "Requirement already satisfied: click>=8.1.7 in /usr/local/lib/python3.10/dist-packages (from duckduckgo_search) (8.1.7)\n",
            "Collecting primp>=0.8.0 (from duckduckgo_search)\n",
            "  Downloading primp-0.8.0-cp38-abi3-manylinux_2_17_x86_64.manylinux2014_x86_64.whl.metadata (10 kB)\n",
            "Downloading duckduckgo_search-6.3.6-py3-none-any.whl (27 kB)\n",
            "Downloading primp-0.8.0-cp38-abi3-manylinux_2_17_x86_64.manylinux2014_x86_64.whl (3.0 MB)\n",
            "\u001b[2K   \u001b[90m━━━━━━━━━━━━━━━━━━━━━━━━━━━━━━━━━━━━━━━━\u001b[0m \u001b[32m3.0/3.0 MB\u001b[0m \u001b[31m33.2 MB/s\u001b[0m eta \u001b[36m0:00:00\u001b[0m\n",
            "\u001b[?25hInstalling collected packages: primp, duckduckgo_search\n",
            "Successfully installed duckduckgo_search-6.3.6 primp-0.8.0\n"
          ]
        }
      ]
    },
    {
      "cell_type": "code",
      "source": [
        "DDGS().news(\"US Election results\", region='in-en')"
      ],
      "metadata": {
        "colab": {
          "base_uri": "https://localhost:8080/"
        },
        "id": "7HG9GxYTqtxg",
        "outputId": "ab8054e5-1642-463e-989d-d1b6c2d98b75"
      },
      "execution_count": 3,
      "outputs": [
        {
          "output_type": "execute_result",
          "data": {
            "text/plain": [
              "[{'date': '2024-11-11T20:11:00+00:00',\n",
              "  'title': '2024 US Election Results Live Updates: Trump names immigration hawk Stephen Miller as deputy chief of staff',\n",
              "  'body': 'Donald Trump secured a victory in Arizona on Saturday, reclaiming the state and its 11 electoral votes for the',\n",
              "  'url': 'https://timesofindia.indiatimes.com/world/us/us-election-results-2024-live-updates-donald-trump-47th-us-president-usa-presidential-elections-result-news/liveblog/115132134.cms',\n",
              "  'image': 'https://static.toiimg.com/thumb/msid-115132134,width-1070,height-580,imgsize-31964,resizemode-75,overlay-toi_sw,pt-32,y_pad-40/photo.jpg',\n",
              "  'source': 'Indiatimes'},\n",
              " {'date': '2024-11-06T10:44:00+00:00',\n",
              "  'title': \"US Election Results 2024 LIVE Updates: Biden hails Kamala Harris as 'best decision'; US House poll results still pending\",\n",
              "  'body': \"Donald Trump is on track to become the first Republican in two decades to win popular vote. Meanwhile US President Joe Biden congratulated Kamala Harris on her campaign, and said, 'selecting Kamala wa\",\n",
              "  'url': 'https://www.livemint.com/elections/us-election-results-2024-live-updates-republican-democratic-donald-trump-kamala-harris-presidential-results-6-nov-2024-11730814462554-page-544.html',\n",
              "  'image': 'https://www.livemint.com/lm-img/img/2024/11/07/1600x900/USA-ELECTION-TRUMP-MEDIA-0_1730943424483_1730943474870.JPG',\n",
              "  'source': 'Mint'},\n",
              " {'date': '2024-11-18T01:18:00+00:00',\n",
              "  'title': 'US elections 2024 Live Updates: Trump taps Brendan Carr for chairman of the Federal Communications Commission',\n",
              "  'body': 'President-elect Donald Trump announced on Sunday that he will appoint Brendan Carr as the chairman of the Federal Communications Commission (FCC).Car',\n",
              "  'url': 'https://timesofindia.indiatimes.com/world/us/us-elections-2024-results-live-updates-donald-trump-elon-must-cabinet-list/liveblog/115398151.cms',\n",
              "  'image': 'https://static.toiimg.com/thumb/msid-115398151,width-1070,height-580,imgsize-599629,resizemode-75,overlay-toi_sw,pt-32,y_pad-40/photo.jpg',\n",
              "  'source': 'Indiatimes'},\n",
              " {'date': '2024-11-06T05:14:00+00:00',\n",
              "  'title': \"2024 US Election Results Updates: Joe Biden promises peaceful transfer of power, calls for 'bringing down the temperature' in US politics\",\n",
              "  'body': 'US Election 2024 Results Live Updates: US President Joe Biden said the elections show that the US electoral system can be trusted and in an indirect dig at Donald Trump, says that one cannot love the country only when one wins. 2024 US Election Results ...',\n",
              "  'url': 'https://economictimes.indiatimes.com/news/international/global-trends/us-election-2024-results-live-updates-voting-counting-winner-loser-donald-trump-kamala-harris-polls-democrats-republican-presidential-elections-news-november-5th-today/liveblog/msid-114961476,page-5.cms',\n",
              "  'image': 'https://economictimes.indiatimes.com/thumb/msid-114961476,width-600,resizemode-4,imglength-12514/news/international/global-trends/us-election-2024-results-live-updates-voting-counting-winner-loser-donald-trump-kamala-harris-polls-democrats-republican-presidential-elections-news-november-5th-today.jpg',\n",
              "  'source': 'Indiatimes'},\n",
              " {'date': '2024-11-06T19:22:00+00:00',\n",
              "  'title': 'US Election Results: Kamala Harris to address her supporters at 2.30am',\n",
              "  'body': 'Vice President Kamala Harris, who lost the presidential elections to her Republican rival Donald Trump, would address her supporters on Wednesday afternoon, according to her campaign and the White House. According to the White House, Kamala Harris will likely deliver her speech at 2:30am (IST).',\n",
              "  'url': 'https://www.hindustantimes.com/world-news/us-presidential-election-2024-result-live-check-united-states-poll-results-latest-america-president-news-today-101730848100395.html',\n",
              "  'image': 'https://www.hindustantimes.com/ht-img/img/2024/11/06/550x309/Kamala_Harris_1730917405940_1730917406135.jpg',\n",
              "  'source': 'Hindustan Times'},\n",
              " {'date': '2024-11-22T20:18:00+00:00',\n",
              "  'title': 'HCL Tech vs Tech Mahindra: Which IT stock should you pick now that US elections are over?',\n",
              "  'body': 'HCL Tech vs Tech Mahindra: IT stocks have been in focus since the US election results were announced. The Nifty IT index has gained more than 3 per cent since then, buoyed by expectations of increased spending by US clients and a strong dollar. Many ...',\n",
              "  'url': 'https://www.msn.com/en-in/money/markets/hcl-tech-vs-tech-mahindra-which-it-stock-should-you-pick-now-that-us-elections-are-over/ar-AA1uyrXQ',\n",
              "  'image': 'https://www.livemint.com/lm-img/img/2024/11/22/1600x900/MarketUnsplash_1726136625700_1732263892015.jpg',\n",
              "  'source': 'Mint on MSN.com'},\n",
              " {'date': '2024-11-22T13:43:00+00:00',\n",
              "  'title': 'Bitcoin ticks closer to $100,000 in extended surge following US elections',\n",
              "  'body': 'Bitcoin extended its streak of record highs after ticking above USD 99,000 for the first time overnight. The cryptocurrency has rocketed more than 40 per cent in just two weeks.',\n",
              "  'url': 'https://www.msn.com/en-us/money/markets/bitcoin-is-at-the-doorstep-of-100000-as-post-election-rally-rolls-on/ar-AA1uvhWh',\n",
              "  'image': 'https://bsmedia.business-standard.com/_media/bs/img/article/2024-09/20/thumb/featurecrop/400X400/1726829827-6368.jpg',\n",
              "  'source': 'The Associated Press - Business News on MSN.com'},\n",
              " {'date': '2024-11-06T19:21:00+00:00',\n",
              "  'title': 'US Election Results 2024 Live Updates Donald Trump Claims Victory In US Presidential Polls',\n",
              "  'body': 'Donald Trump Claims Victory In US Presidential Polls Donald Trump addressed his supporters after scripting a grand comeback to the White House by defeating his Democratic rival Kamala Harris in a closely-contested presidential elections.',\n",
              "  'url': 'https://www.dnaindia.com/india/video-us-election-results-2024-live-updates-donald-trump-claims-victory-in-us-presidential-polls-3116758',\n",
              "  'image': '',\n",
              "  'source': 'DNA India'},\n",
              " {'date': '2024-11-20T19:54:00+00:00',\n",
              "  'title': \"'Nostradamus' Allan Lichtman, who blamed Elon Musk for getting US election results wrong, deactivates his X account\",\n",
              "  'body': 'Allan Lichtman, known for accurately predicting US elections, faced a setback when he incorrectly predicted a Kamala Harris victory. Lichtman attributed his miscalculation to the pervasive influence of disinformation,',\n",
              "  'url': 'https://www.msn.com/en-in/news/world/nostradamus-allan-lichtman-who-blamed-elon-musk-for-getting-us-election-results-wrong-deactivates-his-x-account/ar-AA1us1TL',\n",
              "  'image': 'https://img-s-msn-com.akamaized.net/tenant/amp/entityid/AA1us1TJ.img?w=1280&h=720&m=4&q=100',\n",
              "  'source': 'The Times of India on MSN.com'},\n",
              " {'date': '2024-11-06T19:02:00+00:00',\n",
              "  'title': 'US Election Results: 7 out of 10 states vote for abortion rights',\n",
              "  'body': \"Donald Trump is set to become the 47th US President after a tally of 292 electoral votes against Kamala Harris's 242 votes\",\n",
              "  'url': 'https://www.hindustantimes.com/world-news/us-news/us-election-results-2024-live-donald-trump-kamala-harris-polls-winner-republican-democratic-party-latest-updates-today-101730823715106.html',\n",
              "  'image': '',\n",
              "  'source': 'Hindustan Times'},\n",
              " {'date': '2024-11-22T03:03:00+00:00',\n",
              "  'title': \"Elon Musk claims Jeff Bezos predicted Donald Trump's loss in US elections, Amazon founder hits back, says...\",\n",
              "  'body': \"Musk alleged that Bezos predicted Republican candidate Donald Trump's loss in the US election, which the Amazon founder strictly denied.\",\n",
              "  'url': 'https://www.dnaindia.com/viral/report-elon-musk-claims-jeff-bezos-predicted-donald-trump-s-loss-in-us-elections-amazon-founder-hits-back-says-3119017',\n",
              "  'image': 'https://cdn.dnaindia.com/sites/default/files/styles/full/public/2024/11/22/2663379-phto-2024-11-22t082545.899.png',\n",
              "  'source': 'DNA India'},\n",
              " {'date': '2024-11-10T09:59:00+00:00',\n",
              "  'title': 'US Presidential Elections: Donald Trump Sweeps All Seven Swing States, Flips Key 2020 Wins From Joe Biden',\n",
              "  'body': \"Trump's triumph over Democratic Vice President Kamala Harris represents his second win in Arizona, his first since 2016. Current tallies show Trump with 312 electoral votes, comfortably surpassing the 270 required to secure the presidency. In his 2016 victory, he earned 304 electoral votes.\",\n",
              "  'url': 'https://swarajyamag.com/news-brief/us-presidential-elections-donald-trump-sweeps-all-seven-swing-states-flips-key-2020-wins-from-joe-biden',\n",
              "  'image': 'https://swarajya.gumlet.io/swarajya/2020-08/da3bece2-5a1c-487e-afdd-2d95670d4e7c/US1.png?w=1200&ar=40:21&auto=format,compress&ogImage=true&mode=crop&enlarge=true&overlay=false&overlay_position=bottom&overlay_width=100',\n",
              "  'source': 'Swarajya'},\n",
              " {'date': '2024-11-06T20:16:00+00:00',\n",
              "  'title': \"US Election Results 2024: Meme Fest Begins On Social Media After Reports Of Donald Trump's Victory\",\n",
              "  'body': 'While most memes welcomed Trump and congratulated him for him electoral success, a few showed people unhappy with the results. \"Ah sh*t, here we go again,\" the later said. Earlier on Wednesday, as the poll results indicated him leading the battle ...',\n",
              "  'url': 'https://www.freepressjournal.in/viral/us-election-results-2024-meme-fest-begins-on-social-media-after-reports-of-donald-trumps-victory',\n",
              "  'image': 'https://media.assettype.com/freepressjournal/2024-11-06/71au0c7k/Swarna-2024-11-06T142222.998.jpg',\n",
              "  'source': 'The Free Press Journal'},\n",
              " {'date': '2024-11-10T15:05:00+00:00',\n",
              "  'title': 'US Elections: Trump Secures All 7 Swing States After Arizona Triumph',\n",
              "  'body': \"Trump completes a historic sweep of all seven battleground states in 2024, securing Arizona's 11 electoral votes, bringing his total to 312, with Harris trailing at 226.\",\n",
              "  'url': 'https://www.newsx.com/us-elections-2024/us-elections-trump-secures-all-7-swing-states-after-arizona-triumph/',\n",
              "  'image': 'https://www.newsx.com/wp-content/uploads/2024/11/US-Election-Update.webp',\n",
              "  'source': 'NewsX'},\n",
              " {'date': '2024-11-11T17:00:00+00:00',\n",
              "  'title': 'US House Elections 2024: Republicans Secure 213 Seats as Democrats Fight for Control',\n",
              "  'body': 'In the 2024 US House elections, Republicans hold 213 seats while Democrats fight for control. Key districts and final outcomes are crucial.- Watch Video on English Oneindia',\n",
              "  'url': 'https://www.oneindia.com/videos/us-house-elections-2024-republicans-democrats-control-011-4194860.html',\n",
              "  'image': 'https://imagesvs.oneindia.com/img/videos/',\n",
              "  'source': 'Oneindia'},\n",
              " {'date': '2024-11-22T23:55:00+00:00',\n",
              "  'title': 'Assembly Elections 2024 | Key takeaways from Maharashtra and Jharkhand poll results',\n",
              "  'body': 'While the BJP-led Maha Yuti is leading in Maharashtra, a comeback looks likely for the JMM-led I.N.D.I.A. bloc in Jharkhand',\n",
              "  'url': 'https://www.deccanherald.com/elections/assembly-elections-2024-key-takeaways-from-maharashtra-and-jharkhand-poll-results-3288597',\n",
              "  'image': 'https://images.deccanherald.com/deccanherald/2024-05/95b3c282-ad55-4c2e-aeb0-ad323892cd55/voting_elections_istock_1050462_1636854308_1_1069684_1641780635_1_1076871_1643707735.jpg?rect=0,27,1280,672&w=1200&ar=40:21&auto=format,compress&ogImage=true&mode=crop',\n",
              "  'source': 'Deccan Herald'},\n",
              " {'date': '2024-11-10T15:27:00+00:00',\n",
              "  'title': 'US Elections: Republicans Close To House Control After Taking Senate',\n",
              "  'body': 'This could give Republicans sweeping powers to potentially ram through a broad agenda of tax and spending cuts, energy deregulation and border security controls',\n",
              "  'url': 'https://www.news18.com/world/us-elections-republicans-close-to-house-control-after-taking-senate-9115627.html',\n",
              "  'image': 'https://images.news18.com/ibnlive/uploads/2024/11/untitled-design-37-2024-11-763c2dfbb9830b1ea11a418b44fcea67-16x9.jpg?impolicy=website&width=1200&height=675',\n",
              "  'source': 'CNN-News18'},\n",
              " {'date': '2024-11-14T10:34:00+00:00',\n",
              "  'title': \"Indian crypto platforms ready to leverage Bitcoin rally after Donald Trump's big win in US elections\",\n",
              "  'body': \"Donald Trump's election victory has sparked optimism in the cryptocurrency market, prompting Indian crypto operators to strategize for increased investor engagement. With Bitcoin prices soaring, Indian exchanges are enhancing platforms to leverage this bullish momentum.\",\n",
              "  'url': 'https://www.msn.com/en-in/money/topstories/indian-crypto-platforms-ready-to-leverage-bitcoin-rally-after-donald-trumps-big-win-in-us-elections/ar-AA1u4lDC',\n",
              "  'image': 'https://akm-img-a-in.tosshub.com/businesstoday/images/story/202411/6735cedb6e3a0-bitcoin-has-seen-a-sharp-rally-recently-with-the-largest-crypto-asset-surging-another-11-per-cent-in-12171960-16x9.jpg',\n",
              "  'source': 'Business Today on MSN.com'},\n",
              " {'date': '2024-11-10T13:00:00+00:00',\n",
              "  'title': '\"Many countries nervous about US after presidential elections, India not one of them\": EAM Jaishankar',\n",
              "  'body': \"I know today a lot of countries are nervous about the US. Let's be honest about it ... as the President as well as the Republican Party's success in the Congressional elections. PM Modi highlighted that Trump's spectacular and resounding victory reflected ...\",\n",
              "  'url': 'https://www.aninews.in/news/world/asia/many-countries-nervous-about-us-after-presidential-elections-india-not-one-of-them-eam-jaishankar20241110203022/',\n",
              "  'image': 'https://d3lzcn6mbbadaf.cloudfront.net/media/details/ANI-20241110150009.jpg',\n",
              "  'source': 'Asian News International'},\n",
              " {'date': '2024-11-12T07:05:00+00:00',\n",
              "  'title': 'Meet the robot dogs guarding Donald Trump after US elections win at Mar-a-Lago; see video',\n",
              "  'body': 'The robot dog, known as \"Spot,\" was observed patrolling the grounds of Mar-a-Lago, its sleek, mechanical frame navigating between palm trees with the message \"DO NOT PET\" displayed on its side. \"Safeguarding the President-elect is a top priority,',\n",
              "  'url': 'https://www.msn.com/en-in/money/other/robot-dogs-part-of-donald-trump-s-security-post-us-elections-at-mar-a-lago-see-video/ar-AA1tVxv3',\n",
              "  'image': 'https://akm-img-a-in.tosshub.com/businesstoday/images/story/202411/6732fc978b372-robot-dog-the-new-york-post-115653826-16x9.png',\n",
              "  'source': 'Business Today on MSN.com'},\n",
              " {'date': '2024-11-22T23:18:07+00:00',\n",
              "  'title': 'Sarath Election Results 2024 LIVE: Vote Counting Starts at 8 AM',\n",
              "  'body': 'Counting of votes in Sarath will begin at 8 am and initial trends will roll out shortly thereafter. BJP had won from the Sarath seat during the last Jharkhand Assembly election. Stay with us, as we bring you the latest updates on Sarath assembly election results.',\n",
              "  'url': 'https://www.msn.com/en-in/news/India/sarath-election-results-2024-live-vote-counting-starts-at-8-am/ar-AA1uAMbe',\n",
              "  'image': 'https://img.republicworld.com/all_images/sarath-election-results-2024-live-counting-of-votes-to-begin-at-8-am-1732317474379-16_9.webp',\n",
              "  'source': 'Republic World on MSN.com'},\n",
              " {'date': '2024-11-06T08:14:00+00:00',\n",
              "  'title': 'US election results: Raja Krisnamoorthi, Shri Thanedar, Ro Khanna among other Indian Americans who won in polls',\n",
              "  'body': 'Indian Americans Raja Krishnamoorthi, Shri Thanedar, Ro Khanna have secured wins in the 2024 US presidential elections.',\n",
              "  'url': 'https://indianexpress.com/article/world/us-election-results-raja-krisnamoorthi-shri-thanedar-ro-khanna-indian-americans-9656181/',\n",
              "  'image': 'https://images.indianexpress.com/2024/11/Untitled-design-82.jpg',\n",
              "  'source': 'The Indian Express'},\n",
              " {'date': '2024-11-14T22:30:00+00:00',\n",
              "  'title': 'India and the US elections',\n",
              "  'body': 'A global economy faced with greater uncertainty may also come with higher interest rates, and greater caution among investors. Economies run by autocrats typically enrich a favoured few, but overall growth falls,',\n",
              "  'url': 'https://www.financialexpress.com/opinion/india-and-the-us-elections/3665695/',\n",
              "  'image': 'https://www.financialexpress.com/wp-content/uploads/2024/11/trumpp.reuters.jpg',\n",
              "  'source': 'The Financial Express'},\n",
              " {'date': '2024-11-10T14:50:00+00:00',\n",
              "  'title': 'Why Trump won and Harris lost in US Elections',\n",
              "  'body': 'Now that Kamala Harris has lost, the honourable members of the US left-liberal commentariat, who were pushing al',\n",
              "  'url': 'https://www.newindianexpress.com/opinions/2024/Nov/10/why-trump-won-and-harris-lost-in-us-elections',\n",
              "  'image': '',\n",
              "  'source': 'The New Indian Express'}]"
            ]
          },
          "metadata": {},
          "execution_count": 3
        }
      ]
    },
    {
      "cell_type": "code",
      "source": [
        "def news_analyzer(style, query):\n",
        "  text = \"\"\n",
        "  r = DDGS().news(query, region='us-en')\n",
        "  for article in r:\n",
        "    text +=  article.get('title')+ \"\\n\"+ article.get('body')+\"\\n\\n\"\n",
        "\n",
        "  prompt = \"Give a detailed news analysis in this style: \"+style+\". You will be given news items to analyze and apply that style. Here is the user question\" + query + \\\n",
        "            \"\\n\\n. The news items are : \" + text\n",
        "\n",
        "  #print(prompt)\n",
        "  return llm_groq.invoke(prompt).content"
      ],
      "metadata": {
        "id": "-8A2sDAeu1CA"
      },
      "execution_count": 4,
      "outputs": []
    },
    {
      "cell_type": "code",
      "source": [
        "# We will use a simple utility to make the text wrap properly when printing.\n",
        "from IPython.display import HTML, display\n",
        "\n",
        "def set_css():\n",
        "  display(HTML('''\n",
        "  <style>\n",
        "    pre {\n",
        "        white-space: pre-wrap;\n",
        "    }\n",
        "  </style>\n",
        "  '''))\n",
        "get_ipython().events.register('pre_run_cell', set_css)"
      ],
      "metadata": {
        "id": "dOpvqJeovnux"
      },
      "execution_count": 5,
      "outputs": []
    },
    {
      "cell_type": "code",
      "source": [
        "print(news_analyzer(\"Arnab Goswami screaming\", \"India Australia Perth 2024\"))"
      ],
      "metadata": {
        "colab": {
          "base_uri": "https://localhost:8080/",
          "height": 530
        },
        "id": "vIu1-jeHrCy_",
        "outputId": "7f29392a-8495-43e7-9f25-48b8e42f22c0"
      },
      "execution_count": 6,
      "outputs": [
        {
          "output_type": "display_data",
          "data": {
            "text/plain": [
              "<IPython.core.display.HTML object>"
            ],
            "text/html": [
              "\n",
              "  <style>\n",
              "    pre {\n",
              "        white-space: pre-wrap;\n",
              "    }\n",
              "  </style>\n",
              "  "
            ]
          },
          "metadata": {}
        },
        {
          "output_type": "stream",
          "name": "stdout",
          "text": [
            "(Deep breath) OKAY, LET'S GET INTO IT! WE'VE GOT A BARNBURNER OF A TEST MATCH GOING ON IN PERTH, FOLKS! INDIA TAKING ON AUSTRALIA, AND THE ACTION IS HEATING UP!\n",
            "\n",
            "First off, let me tell you, the Aussies are in TROUBLE! They've been bowled out for a paltry 104, courtesy of Jasprit Bumrah's FIVE-WICKET HAUL! That's right, FIVE WICKETS, FOLKS! Bumrah's on fire, and the Aussies are running for cover!\n",
            "\n",
            "But wait, there's more! India's openers, Yashasvi Jaiswal and KL Rahul, are on SONG! They've put on an unbeaten 84-run partnership, and India's lead is now a whopping 130 RUNS! The Aussies are staring down the barrel of a DEFEAT, folks!\n",
            "\n",
            "And let's not forget, this is just the FIRST TEST MATCH of the Border-Gavaskar Trophy! India's got the momentum, and they're not letting up! The Aussies, on the other hand, are struggling to get out of the blocks!\n",
            "\n",
            "Now, I know what you're thinking, \"Arnab, what about the Aussies' chances of a comeback?\" Well, let me tell you, it's NOT LOOKING GOOD! They've been outplayed in every department, and their top order is in SHAMBLES!\n",
            "\n",
            "BUT, as we all know, cricket is a game of UNPREDICTABILITY! Anything can happen on any given day! So, will the Aussies stage a dramatic comeback? Can they turn the tables on India? WE'LL HAVE TO WAIT AND WATCH, FOLKS!\n",
            "\n",
            "BUT FOR NOW, INDIA IS IN THE DRIVER'S SEAT! THEY'RE CRUISING TOWARDS A MASSIVE WIN, AND THE AUSSIES ARE LEFT TO PICK UP THE PIECES!\n",
            "\n",
            "SO, WHAT DO YOU THINK, FOLKS? CAN INDIA SEAL THE DEAL IN PERTH? OR WILL THE AUSSIES PULL OFF A MIRACLE? LET ME KNOW IN THE COMMENTS!\n"
          ]
        }
      ]
    },
    {
      "cell_type": "code",
      "source": [
        "print(news_analyzer(\"Morgan Freemnan in Swashank Redemption style\", \"LLMs in Ecommerce\"))"
      ],
      "metadata": {
        "colab": {
          "base_uri": "https://localhost:8080/",
          "height": 1000
        },
        "id": "YdFBq5rwZ9xV",
        "outputId": "de892cc7-b566-4ae3-8ad0-72b136c9d11b"
      },
      "execution_count": 7,
      "outputs": [
        {
          "output_type": "display_data",
          "data": {
            "text/plain": [
              "<IPython.core.display.HTML object>"
            ],
            "text/html": [
              "\n",
              "  <style>\n",
              "    pre {\n",
              "        white-space: pre-wrap;\n",
              "    }\n",
              "  </style>\n",
              "  "
            ]
          },
          "metadata": {}
        },
        {
          "output_type": "stream",
          "name": "stdout",
          "text": [
            "[The camera pans over a dimly lit room, the sound of a gentle rain falling outside. Morgan Freeman's voice, calm and soothing, begins to speak.]\n",
            "\n",
            "Morgan Freeman: \"You see, my friend, the world of e-commerce is about to undergo a revolution. And at the heart of it all are Large Language Models, or LLMs for short. These marvels of artificial intelligence are changing the game, making it possible for digital wallets to turn one-click checkout into one-query purchases.\"\n",
            "\n",
            "[Cut to a shot of a person holding a smartphone, scrolling through an e-commerce app.]\n",
            "\n",
            "Morgan Freeman: \"Imagine being able to search for a product, and with just one query, having the entire purchase process handled for you. No more tedious checkout forms, no more hassle. It's the future of e-commerce, and it's being driven by LLMs.\"\n",
            "\n",
            "[Cut to a shot of a person working on a computer, coding away.]\n",
            "\n",
            "Morgan Freeman: \"But LLMs aren't just limited to e-commerce. They're being used in a wide range of applications, from detecting supply chain threats to generating faster and slimmer AI apps. And with the rise of 1-bit LLMs, we're seeing even more possibilities open up.\"\n",
            "\n",
            "[Cut to a shot of a group of people working together, collaborating on a project.]\n",
            "\n",
            "Morgan Freeman: \"However, as with any new technology, there are also concerns about security gaps and the potential for malicious actors to enter the supply chain. It's a cat-and-mouse game, with developers working to stay one step ahead of those who would seek to exploit these powerful tools.\"\n",
            "\n",
            "[Cut to a shot of a person analyzing data on a computer screen.]\n",
            "\n",
            "Morgan Freeman: \"But the benefits of LLMs can't be denied. They're being used to boost investments, improve SEO, and even help medical students learn more effectively. And with the rise of multi-agent AI, we're seeing even more complex problems being tackled.\"\n",
            "\n",
            "[Cut to a shot of a person holding a tablet, looking at a 3D model of the earth.]\n",
            "\n",
            "Morgan Freeman: \"And then there's the promise of large geospatial models, or LGMs. These are the next frontier in AI, and they're going to change the game in ways we can only begin to imagine.\"\n",
            "\n",
            "[Cut to a shot of Morgan Freeman, sitting in a chair, looking thoughtful.]\n",
            "\n",
            "Morgan Freeman: \"So, my friend, that's the world of LLMs in e-commerce and beyond. It's a brave new world, full of possibilities and challenges. But one thing's for sure - it's going to be an exciting ride.\"\n",
            "\n",
            "[The camera fades to black, the sound of the rain continuing to fall in the background.]\n",
            "\n",
            "Morgan Freeman: \"That's all for now. I'm Morgan Freeman, and I'll be seeing you on the other side.\"\n"
          ]
        }
      ]
    },
    {
      "cell_type": "code",
      "source": [
        "print(news_analyzer(\"Answer in a simple style for\", \"RAG vs Finetuning differences\"))"
      ],
      "metadata": {
        "id": "R6A16RgbvR1O",
        "colab": {
          "base_uri": "https://localhost:8080/",
          "height": 867
        },
        "outputId": "1f84a304-c0ca-4dfe-d6b4-06680bc00f79"
      },
      "execution_count": 8,
      "outputs": [
        {
          "output_type": "display_data",
          "data": {
            "text/plain": [
              "<IPython.core.display.HTML object>"
            ],
            "text/html": [
              "\n",
              "  <style>\n",
              "    pre {\n",
              "        white-space: pre-wrap;\n",
              "    }\n",
              "  </style>\n",
              "  "
            ]
          },
          "metadata": {}
        },
        {
          "output_type": "stream",
          "name": "stdout",
          "text": [
            "It looks like you want me to analyze the news about RAG (Retrieval-Augmented Generation) vs Finetuning in the context of AI and machine learning. Here's my analysis in a simple and easy-to-understand style:\n",
            "\n",
            "**What's the news about?**\n",
            "Recently, there has been a growing interest in two techniques used in natural language processing (NLP) and language models: RAG (Retrieval-Augmented Generation) and Finetuning. Both methods aim to improve the performance of AI models, but they differ in their approaches and applications.\n",
            "\n",
            "**What is RAG?**\n",
            "RAG is a technique that enhances language models by incorporating external knowledge retrieval into the generation process. This means that when an AI model is asked to generate text, it not only relies on its internal knowledge but also retrieves relevant information from a vast database or knowledge graph. This approach helps to improve the accuracy and relevance of the generated text.\n",
            "\n",
            "**What is Finetuning?**\n",
            "Finetuning is a process of adjusting a pre-trained language model to fit a specific task or dataset. This involves taking a pre-trained model and further training it on a smaller dataset related to the specific task, such as sentiment analysis or text classification. Finetuning helps to adapt the model to the new task and improve its performance.\n",
            "\n",
            "**Key differences between RAG and Finetuning:**\n",
            "\n",
            "1. **Approach**: RAG focuses on retrieving external knowledge to generate text, while Finetuning focuses on adapting a pre-trained model to a specific task.\n",
            "2. **Application**: RAG is useful for tasks that require generating text based on external knowledge, such as answering questions or generating summaries. Finetuning is suitable for tasks that require adapting a model to a specific dataset or task, such as sentiment analysis or text classification.\n",
            "3. **Training data**: RAG requires a large database or knowledge graph, while Finetuning requires a smaller dataset related to the specific task.\n",
            "4. **Model architecture**: RAG typically involves adding a retrieval module to the language model, while Finetuning involves adjusting the model's weights and biases to fit the new task.\n",
            "\n",
            "**Implications and future directions:**\n",
            "Both RAG and Finetuning have the potential to improve the performance of AI models in various NLP tasks. RAG can be particularly useful in applications where external knowledge is crucial, such as question-answering or text summarization. Finetuning, on the other hand, can be applied to a wide range of tasks that require adapting a pre-trained model to a specific dataset or task. As research continues to evolve, we can expect to see the development of more sophisticated techniques that combine the strengths of both RAG and Finetuning.\n",
            "\n",
            "I hope this analysis helps! Let me know if you have any further questions.\n"
          ]
        }
      ]
    },
    {
      "cell_type": "code",
      "source": [
        "print(news_analyzer(\"In a professional style without jargons\", \"Latest LLM developments\"))"
      ],
      "metadata": {
        "colab": {
          "base_uri": "https://localhost:8080/",
          "height": 902
        },
        "id": "GJ2QHlrjHFah",
        "outputId": "a702384d-6da1-46e6-a577-e040f42454db"
      },
      "execution_count": 9,
      "outputs": [
        {
          "output_type": "display_data",
          "data": {
            "text/plain": [
              "<IPython.core.display.HTML object>"
            ],
            "text/html": [
              "\n",
              "  <style>\n",
              "    pre {\n",
              "        white-space: pre-wrap;\n",
              "    }\n",
              "  </style>\n",
              "  "
            ]
          },
          "metadata": {}
        },
        {
          "output_type": "stream",
          "name": "stdout",
          "text": [
            "**LLM Developments: The AI Arms Race Heats Up**\n",
            "\n",
            "The artificial intelligence (AI) landscape is rapidly evolving, with tech giants and startups alike racing to develop more advanced large language models (LLMs). The latest developments in the LLM space suggest that 2025 and 2026 will be pivotal years for AI-powered innovation.\n",
            "\n",
            "**Apple's Siri Revamp: A Threat to ChatGPT and Google Gemini?**\n",
            "\n",
            "Apple is reportedly working on a major AI-powered overhaul of its virtual assistant, Siri. Dubbed \"LLM Siri,\" the revamped assistant is expected to rival OpenAI's ChatGPT and Google Gemini with advanced capabilities. Apple's self-developed AI models will provide an experience similar to ChatGPT directly within Siri, potentially disrupting the AI chatbot landscape.\n",
            "\n",
            "**The AI Arms Race: A Game of One-Upmanship**\n",
            "\n",
            "The pace of AI progress is accelerating, with developments happening in a matter of days. This has led to a game of one-upmanship between AI players, with ChatGPT and Gemini constantly improving their capabilities. Apple's entry into the fray could further intensify the competition, driving innovation and advancements in AI technology.\n",
            "\n",
            "**Hybrid Compute: The Future of AI Deployment**\n",
            "\n",
            "As large enterprises increasingly adopt hybrid compute to retain control of their AI capabilities, the demand for LLM services is expected to grow. This shift will enable companies to experiment and deploy AI capabilities quickly, while maintaining control over their own intelligence.\n",
            "\n",
            "**LLM Applications: From Electronic Warfare to Digital Inclusivity**\n",
            "\n",
            "Beyond virtual assistants, LLMs are being applied in various domains, including electronic warfare, robotic process automation, and digital inclusivity. For instance, China's Chengdu Aircraft Design Institute has developed an LLM for electronic warfare drones, while VEON's Jazz is partnering to develop Pakistan's first indigenous LLM to support under-resourced regional languages.\n",
            "\n",
            "**The Broader Impact of LLM Developments**\n",
            "\n",
            "The rapid progress in LLMs will have far-reaching implications for various industries, including law, education, and technology. For instance, the development of LLM-powered voice functions will redefine the smartphone user experience in 2025. Similarly, the increasing adoption of LLMs will require professionals to upskill and reskill to remain relevant in an AI-driven economy.\n",
            "\n",
            "In conclusion, the LLM developments of 2025 and 2026 will be crucial in shaping the future of AI innovation. As the AI arms race heats up, tech giants and startups will continue to push the boundaries of what is possible with LLMs, driving progress in various domains and industries.\n"
          ]
        }
      ]
    },
    {
      "cell_type": "code",
      "source": [
        "print(news_analyzer(\"how will life be impacted in India\", \"Israel and Iran\"))"
      ],
      "metadata": {
        "id": "OSUyaOLVSTJn",
        "colab": {
          "base_uri": "https://localhost:8080/",
          "height": 1000
        },
        "outputId": "bef80674-5017-479f-e45e-bc874cd8d116"
      },
      "execution_count": 10,
      "outputs": [
        {
          "output_type": "display_data",
          "data": {
            "text/plain": [
              "<IPython.core.display.HTML object>"
            ],
            "text/html": [
              "\n",
              "  <style>\n",
              "    pre {\n",
              "        white-space: pre-wrap;\n",
              "    }\n",
              "  </style>\n",
              "  "
            ]
          },
          "metadata": {}
        },
        {
          "output_type": "stream",
          "name": "stdout",
          "text": [
            "**India's Implications: How the Escalating Israel-Iran Conflict Affects Life in India**\n",
            "\n",
            "The escalating tensions between Israel and Iran have far-reaching implications for India, a country that has maintained diplomatic relations with both nations. As the conflict unfolds, India's economy, foreign policy, and national security are likely to be impacted in various ways.\n",
            "\n",
            "**Economic Implications**\n",
            "\n",
            "* **Trade and Commerce:** India's trade relations with both Israel and Iran could be affected. Israel is a significant trade partner for India, with bilateral trade valued at over $5 billion. Any disruption in trade flows could impact India's economy, particularly in the areas of technology, defense, and agriculture. On the other hand, India's trade with Iran, although smaller in scale, is significant in the energy sector. Disruptions in oil supplies from Iran could lead to price volatility and inflation in India.\n",
            "* **Energy Security:** India is heavily dependent on oil imports from the Middle East, including Iran. Any escalation in the conflict could lead to disruptions in oil supplies, affecting India's energy security and economic growth.\n",
            "\n",
            "**Foreign Policy Implications**\n",
            "\n",
            "* **Balancing Act:** India will need to navigate its relations with both Israel and Iran carefully, avoiding any actions that could be perceived as taking sides. This balancing act will be crucial to maintain India's strategic interests in the region.\n",
            "* **Regional Security:** The conflict could have implications for regional security, particularly in the context of India's relations with other Middle Eastern countries. India will need to engage with regional players to ensure that the conflict does not spill over into other parts of the region.\n",
            "\n",
            "**National Security Implications**\n",
            "\n",
            "* **Terrorism:** The conflict could lead to an increase in terrorist activities in the region, which could have implications for India's national security. India will need to remain vigilant and take measures to prevent any terrorist activities on its soil.\n",
            "* **Cybersecurity:** The conflict could also lead to an increase in cyberattacks, particularly from Iran-backed groups. India's cybersecurity infrastructure will need to be strengthened to prevent any potential attacks.\n",
            "\n",
            "**Humanitarian Implications**\n",
            "\n",
            "* **Refugees and Migration:** The conflict could lead to an influx of refugees and migrants into India, particularly from Iran and other countries in the region. India will need to prepare for this eventuality and ensure that its humanitarian response is adequate.\n",
            "* **Diplomatic Efforts:** India could play a constructive role in promoting diplomatic efforts to resolve the conflict peacefully. This could involve engaging with other regional players, such as the Gulf Cooperation Council countries, to promote a dialogue between Israel and Iran.\n",
            "\n",
            "In conclusion, the escalating Israel-Iran conflict has significant implications for India's economy, foreign policy, national security, and humanitarian efforts. As the situation unfolds, India will need to navigate these challenges carefully to ensure its strategic interests are protected and its relations with both Israel and Iran remain balanced.\n"
          ]
        }
      ]
    }
  ]
}