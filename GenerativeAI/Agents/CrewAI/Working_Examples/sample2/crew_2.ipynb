{
 "cells": [
  {
   "cell_type": "code",
   "execution_count": 1,
   "metadata": {},
   "outputs": [
    {
     "name": "stdout",
     "output_type": "stream",
     "text": [
      "hello world\n"
     ]
    }
   ],
   "source": [
    "print(\"hello world\")"
   ]
  },
  {
   "cell_type": "code",
   "execution_count": 2,
   "metadata": {},
   "outputs": [],
   "source": [
    "# pip install crewai\n",
    "# pip install 'crewai[tools]'\n",
    "# pip install ollama"
   ]
  },
  {
   "cell_type": "markdown",
   "metadata": {},
   "source": [
    "#### Import Required Libraries"
   ]
  },
  {
   "cell_type": "code",
   "execution_count": 3,
   "metadata": {},
   "outputs": [],
   "source": [
    "from crewai import Agent, Task, Crew\n",
    "import pkg_resources"
   ]
  },
  {
   "cell_type": "code",
   "execution_count": 4,
   "metadata": {},
   "outputs": [
    {
     "name": "stdout",
     "output_type": "stream",
     "text": [
      "0.79.4\n"
     ]
    }
   ],
   "source": [
    "# Get the version of CrewAI\n",
    "crewai_version = pkg_resources.get_distribution(\"crewai\").version\n",
    "print(crewai_version)"
   ]
  },
  {
   "cell_type": "markdown",
   "metadata": {},
   "source": [
    "### Define the Agents\n",
    "\n",
    "Here, we define three agents with specific roles and goals. Each agent is responsible for a task related to image classification and description.\n",
    "\n",
    "    Classifier Agent: Checks if the image contains an animal, uses llava:7b model to classify the animal.\n",
    "    Description Agent: Describes the animal in the image. This also uses the same llava:7b model like the preceding agent.\n",
    "    Information Retrieval Agent: This agent retrieves additional information or interesting facts about the animal. It uses llama2 to provide this information.\n"
   ]
  },
  {
   "cell_type": "code",
   "execution_count": 5,
   "metadata": {},
   "outputs": [],
   "source": [
    "llm='ollama/llava-phi3:latest'"
   ]
  },
  {
   "cell_type": "code",
   "execution_count": 6,
   "metadata": {},
   "outputs": [],
   "source": [
    "# 1. Image Classifier Agent (to check if the image is an animal)\n",
    "\n",
    "classifier_agent = Agent(\n",
    "    role=\"Image Classifier Agent\",\n",
    "    goal=\"Determine if the image is of an animal or not\",\n",
    "    backstory=\"\"\"\n",
    "    You have an eye for animals! Your job is to identify whether the input image is of an animal\n",
    "    or something else.\n",
    "    \"\"\",\n",
    "    llm=llm# Model for image-related tasks\n",
    ")\n"
   ]
  },
  {
   "cell_type": "code",
   "execution_count": 7,
   "metadata": {},
   "outputs": [],
   "source": [
    "# 2. Animal Description Agent (to describe the animal in the image)\n",
    "\n",
    "description_agent = Agent(\n",
    "    role=\"Animal Description Agent {image_path}\",\n",
    "    goal=\"Describe the animal in the image\",\n",
    "    backstory=\"\"\"\n",
    "    You love nature and animals. Your task is to describe any animal based on an image.\n",
    "    \"\"\",\n",
    "    llm=llm# Model for image-related tasks\n",
    ")\n"
   ]
  },
  {
   "cell_type": "code",
   "execution_count": 8,
   "metadata": {},
   "outputs": [],
   "source": [
    "# 3. Information Retrieval Agent (to fetch additional info about the animal)\n",
    "\n",
    "info_agent = Agent(\n",
    "    role=\"Information Agent\",\n",
    "    goal=\"Give compelling information about a certain animal\",\n",
    "    backstory=\"\"\"\n",
    "    You are very good at telling interesting facts.You don't give any wrong information if you don't know it.\n",
    "    \"\"\",\n",
    "    llm=llm# Model for general knowledge retrieval\n",
    ")"
   ]
  },
  {
   "cell_type": "markdown",
   "metadata": {},
   "source": [
    "### Define Tasks for Each Agent\n",
    "\n",
    "Each task is tied to one of the agents. Tasks describe the input, the expected output, and which agent should handle it.\n",
    "\n",
    "    Task 1: Classify whether the image contains an animal.\n",
    "    Task 2: If the image is classified as an animal, describe it.\n",
    "    Task 3: Provide additional information about the animal based on the description.\n"
   ]
  },
  {
   "cell_type": "code",
   "execution_count": 9,
   "metadata": {},
   "outputs": [],
   "source": [
    "# Task 1: Check if the image is an animal\n",
    "task1 = Task(\n",
    "    description=\"Classify the image ({image_path}) and tell me if it's an animal.\",\n",
    "    expected_output=\"If it's an animal, say 'animal'; otherwise, say 'not an animal'.\",\n",
    "    agent=classifier_agent\n",
    ")\n",
    "# Task 2: If it's an animal, describe it\n",
    "task2 = Task(\n",
    "    description=\"Describe the animal in the image.({image_path})\",\n",
    "    expected_output=\"Give a detailed description of the animal.\",\n",
    "    agent=description_agent\n",
    ")\n",
    "# Task 3: Provide more information about the animal\n",
    "\n",
    "task3 = Task(\n",
    "    description=\"Give additional information about the described animal.\",\n",
    "    expected_output=\"Provide at least 5 interesting facts or information about the animal.\",\n",
    "    agent=info_agent\n",
    ")\n",
    "\n"
   ]
  },
  {
   "cell_type": "markdown",
   "metadata": {},
   "source": [
    "#### Managing Agents and Tasks with a Crew\n",
    "\n",
    "A Crew is set up to manage the agents and tasks. It coordinates the tasks sequentially and provides the results based on the agents’ chains of thought."
   ]
  },
  {
   "cell_type": "code",
   "execution_count": 10,
   "metadata": {},
   "outputs": [],
   "source": [
    "# Crew to manage the agents and tasks\n",
    "\n",
    "crew = Crew(\n",
    "agents=[classifier_agent, description_agent, info_agent],\n",
    "tasks=[task1, task2, task3],\n",
    "verbose=True\n",
    ")\n",
    "\n"
   ]
  },
  {
   "cell_type": "code",
   "execution_count": 11,
   "metadata": {},
   "outputs": [
    {
     "name": "stdout",
     "output_type": "stream",
     "text": [
      "\u001b[1m\u001b[95m# Agent:\u001b[00m \u001b[1m\u001b[92mImage Classifier Agent\u001b[00m\n",
      "\u001b[95m## Task:\u001b[00m \u001b[92mClassify the image (racoon.jpg) and tell me if it's an animal.\u001b[00m\n",
      "\n",
      "\n",
      "\u001b[1m\u001b[95m# Agent:\u001b[00m \u001b[1m\u001b[92mImage Classifier Agent\u001b[00m\n",
      "\u001b[95m## Final Answer:\u001b[00m \u001b[92m\n",
      "animal\u001b[00m\n",
      "\n",
      "\n",
      "\u001b[1m\u001b[95m# Agent:\u001b[00m \u001b[1m\u001b[92mAnimal Description Agent racoon.jpg\u001b[00m\n",
      "\u001b[95m## Task:\u001b[00m \u001b[92mDescribe the animal in the image.(racoon.jpg)\u001b[00m\n",
      "\n",
      "\n",
      "\u001b[1m\u001b[95m# Agent:\u001b[00m \u001b[1m\u001b[92mAnimal Description Agent racoon.jpg\u001b[00m\n",
      "\u001b[95m## Final Answer:\u001b[00m \u001b[92m\n",
      "The image features a raccoon in mid-stride. The raccoon is medium-sized, with a rich brown coat that has distinctive black stripes and patches on its face, ears, back legs, tail, and hind foot. Its front paws are held up as it walks across the ground, showcasing its agility and balance. Raccoons have dextrous hands, with five fingers each and a strong grip that allows them to climb trees and open containers. In this image, you can see these features clearly, along with their inquisitive nature as they explore their surroundings.\u001b[00m\n",
      "\n",
      "\n",
      "\u001b[1m\u001b[95m# Agent:\u001b[00m \u001b[1m\u001b[92mInformation Agent\u001b[00m\n",
      "\u001b[95m## Task:\u001b[00m \u001b[92mGive additional information about the described animal.\u001b[00m\n",
      "\n",
      "\n",
      "\u001b[1m\u001b[95m# Agent:\u001b[00m \u001b[1m\u001b[92mInformation Agent\u001b[00m\n",
      "\u001b[95m## Final Answer:\u001b[00m \u001b[92m\n",
      "Raccoons are fascinating animals known for their adaptability and intelligence. Here are five interesting facts about raccoons:\n",
      "\n",
      "1. Despite being primarily nocturnal, raccoons have been known to be active during the day in areas with a high population of humans or scarce food sources at night.\n",
      "2. Raccoons have an exceptional sense of touch due to their sensitive paws, which are equipped with over 5,000 individual hairs on each digit that provide tactile feedback and dexterity. This allows them to grasp objects with great precision.\n",
      "3. Raccoons possess a unique facial mask made up of black fur around the eyes and ears, which helps protect their sensitive eyes and ears from injury when they are foraging or climbing trees.\n",
      "4. They have a taste bud-rich tongue that can detect even subtle flavor changes in food items, allowing them to discern between edible and inedible morsels with ease.\n",
      "5. Raccoons are known to be one of the few animals besides humans that possess the ability to use their dextrous paws to unlock a latch or twist off a lid on containers, showcasing their impressive problem-solving skills.\u001b[00m\n",
      "\n",
      "\n"
     ]
    }
   ],
   "source": [
    "# Execute the tasks with the provided image path\n",
    "result = crew.kickoff(inputs={'image_path': 'racoon.jpg'})"
   ]
  }
 ],
 "metadata": {
  "kernelspec": {
   "display_name": "crewai",
   "language": "python",
   "name": "python3"
  },
  "language_info": {
   "codemirror_mode": {
    "name": "ipython",
    "version": 3
   },
   "file_extension": ".py",
   "mimetype": "text/x-python",
   "name": "python",
   "nbconvert_exporter": "python",
   "pygments_lexer": "ipython3",
   "version": "3.11.10"
  }
 },
 "nbformat": 4,
 "nbformat_minor": 2
}
