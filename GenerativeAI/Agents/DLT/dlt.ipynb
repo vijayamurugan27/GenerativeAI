{
 "cells": [
  {
   "cell_type": "code",
   "execution_count": 18,
   "metadata": {},
   "outputs": [
    {
     "name": "stdout",
     "output_type": "stream",
     "text": [
      "hello world\n"
     ]
    }
   ],
   "source": [
    "print(\"hello world\")"
   ]
  },
  {
   "cell_type": "markdown",
   "metadata": {},
   "source": [
    "### Installing Dlt and duckdb"
   ]
  },
  {
   "cell_type": "code",
   "execution_count": 19,
   "metadata": {},
   "outputs": [],
   "source": [
    "# %%capture\n",
    "# !pip install \"dlt[duckdb]\""
   ]
  },
  {
   "cell_type": "markdown",
   "metadata": {},
   "source": [
    "### Checking the version of dlt"
   ]
  },
  {
   "cell_type": "code",
   "execution_count": 20,
   "metadata": {},
   "outputs": [
    {
     "name": "stdout",
     "output_type": "stream",
     "text": [
      "dlt 1.4.0\n"
     ]
    }
   ],
   "source": [
    "!dlt --version"
   ]
  },
  {
   "cell_type": "markdown",
   "metadata": {},
   "source": [
    "### Importing the dlt and initialising its pipeline."
   ]
  },
  {
   "cell_type": "code",
   "execution_count": 21,
   "metadata": {},
   "outputs": [],
   "source": [
    "import dlt\n",
    "\n",
    "pipeline = dlt.pipeline(pipeline_name= \"pokemon_pipeline\", destination = \"duckdb\", dataset_name= \"pokemon_data_1\")"
   ]
  },
  {
   "cell_type": "markdown",
   "metadata": {},
   "source": [
    "### Obtaining data from the source."
   ]
  },
  {
   "cell_type": "code",
   "execution_count": 22,
   "metadata": {},
   "outputs": [],
   "source": [
    "from dlt.sources.helpers import requests\n",
    "\n",
    "POKEMON_URL = \"https://pokeapi.co/api/v2/pokemon/\"\n",
    "data = requests.get(POKEMON_URL).json()[\"results\"]"
   ]
  },
  {
   "cell_type": "code",
   "execution_count": 23,
   "metadata": {},
   "outputs": [
    {
     "data": {
      "text/plain": [
       "[{'name': 'bulbasaur', 'url': 'https://pokeapi.co/api/v2/pokemon/1/'},\n",
       " {'name': 'ivysaur', 'url': 'https://pokeapi.co/api/v2/pokemon/2/'},\n",
       " {'name': 'venusaur', 'url': 'https://pokeapi.co/api/v2/pokemon/3/'},\n",
       " {'name': 'charmander', 'url': 'https://pokeapi.co/api/v2/pokemon/4/'},\n",
       " {'name': 'charmeleon', 'url': 'https://pokeapi.co/api/v2/pokemon/5/'},\n",
       " {'name': 'charizard', 'url': 'https://pokeapi.co/api/v2/pokemon/6/'},\n",
       " {'name': 'squirtle', 'url': 'https://pokeapi.co/api/v2/pokemon/7/'},\n",
       " {'name': 'wartortle', 'url': 'https://pokeapi.co/api/v2/pokemon/8/'},\n",
       " {'name': 'blastoise', 'url': 'https://pokeapi.co/api/v2/pokemon/9/'},\n",
       " {'name': 'caterpie', 'url': 'https://pokeapi.co/api/v2/pokemon/10/'},\n",
       " {'name': 'metapod', 'url': 'https://pokeapi.co/api/v2/pokemon/11/'},\n",
       " {'name': 'butterfree', 'url': 'https://pokeapi.co/api/v2/pokemon/12/'},\n",
       " {'name': 'weedle', 'url': 'https://pokeapi.co/api/v2/pokemon/13/'},\n",
       " {'name': 'kakuna', 'url': 'https://pokeapi.co/api/v2/pokemon/14/'},\n",
       " {'name': 'beedrill', 'url': 'https://pokeapi.co/api/v2/pokemon/15/'},\n",
       " {'name': 'pidgey', 'url': 'https://pokeapi.co/api/v2/pokemon/16/'},\n",
       " {'name': 'pidgeotto', 'url': 'https://pokeapi.co/api/v2/pokemon/17/'},\n",
       " {'name': 'pidgeot', 'url': 'https://pokeapi.co/api/v2/pokemon/18/'},\n",
       " {'name': 'rattata', 'url': 'https://pokeapi.co/api/v2/pokemon/19/'},\n",
       " {'name': 'raticate', 'url': 'https://pokeapi.co/api/v2/pokemon/20/'}]"
      ]
     },
     "execution_count": 23,
     "metadata": {},
     "output_type": "execute_result"
    }
   ],
   "source": [
    "data"
   ]
  },
  {
   "cell_type": "markdown",
   "metadata": {},
   "source": [
    "### Running the pipeline."
   ]
  },
  {
   "cell_type": "code",
   "execution_count": 24,
   "metadata": {},
   "outputs": [
    {
     "name": "stdout",
     "output_type": "stream",
     "text": [
      "Pipeline pokemon_pipeline load step completed in 0.12 seconds\n",
      "1 load package(s) were loaded to destination duckdb and into dataset pokemon_data_1\n",
      "The duckdb destination used duckdb:///e:\\Materials\\LLMs\\Agents\\DLT\\pokemon_pipeline.duckdb location to store data\n",
      "Load package 1731898615.6941798 is LOADED and contains no failed jobs\n"
     ]
    }
   ],
   "source": [
    "load_info = pipeline.run(data, table_name = \"pokemon\")\n",
    "print(load_info)"
   ]
  },
  {
   "cell_type": "markdown",
   "metadata": {},
   "source": [
    "### Accessing the loaded data."
   ]
  },
  {
   "cell_type": "markdown",
   "metadata": {},
   "source": [
    "#### This code if your working in Google Collab"
   ]
  },
  {
   "cell_type": "code",
   "execution_count": 25,
   "metadata": {},
   "outputs": [],
   "source": [
    "# import ducckdb\n",
    "# from google.colab import data_table\n",
    "# data_table.enable_dataframe_formater()"
   ]
  },
  {
   "cell_type": "code",
   "execution_count": 26,
   "metadata": {},
   "outputs": [
    {
     "name": "stdout",
     "output_type": "stream",
     "text": [
      "Available tables: Empty DataFrame\n",
      "Columns: [name]\n",
      "Index: []\n"
     ]
    }
   ],
   "source": [
    "import duckdb\n",
    "\n",
    "# Connect to the specific DuckDB database\n",
    "conn = duckdb.connect('e:/Materials/LLMs/Agents/DLT/pokemon_pipeline.duckdb')\n",
    "\n",
    "# Verify available tables\n",
    "tables = conn.execute(\"SHOW TABLES\").fetchdf()\n",
    "print(\"Available tables:\", tables)\n",
    "\n",
    "# # Query the correct table (likely 'pokemon')\n",
    "# df = conn.execute(\"SELECT * FROM pokemon\").fetchdf()\n",
    "# display(df)\n"
   ]
  },
  {
   "cell_type": "code",
   "execution_count": 27,
   "metadata": {},
   "outputs": [
    {
     "data": {
      "text/html": [
       "<div>\n",
       "<style scoped>\n",
       "    .dataframe tbody tr th:only-of-type {\n",
       "        vertical-align: middle;\n",
       "    }\n",
       "\n",
       "    .dataframe tbody tr th {\n",
       "        vertical-align: top;\n",
       "    }\n",
       "\n",
       "    .dataframe thead th {\n",
       "        text-align: right;\n",
       "    }\n",
       "</style>\n",
       "<table border=\"1\" class=\"dataframe\">\n",
       "  <thead>\n",
       "    <tr style=\"text-align: right;\">\n",
       "      <th></th>\n",
       "      <th>name</th>\n",
       "      <th>url</th>\n",
       "      <th>_dlt_load_id</th>\n",
       "      <th>_dlt_id</th>\n",
       "    </tr>\n",
       "  </thead>\n",
       "  <tbody>\n",
       "    <tr>\n",
       "      <th>0</th>\n",
       "      <td>bulbasaur</td>\n",
       "      <td>https://pokeapi.co/api/v2/pokemon/1/</td>\n",
       "      <td>1731896595.9177911</td>\n",
       "      <td>WlQY0vfc6nscEg</td>\n",
       "    </tr>\n",
       "    <tr>\n",
       "      <th>1</th>\n",
       "      <td>ivysaur</td>\n",
       "      <td>https://pokeapi.co/api/v2/pokemon/2/</td>\n",
       "      <td>1731896595.9177911</td>\n",
       "      <td>2hEHcBikkvvC8A</td>\n",
       "    </tr>\n",
       "    <tr>\n",
       "      <th>2</th>\n",
       "      <td>venusaur</td>\n",
       "      <td>https://pokeapi.co/api/v2/pokemon/3/</td>\n",
       "      <td>1731896595.9177911</td>\n",
       "      <td>D03afRmqOTz4/A</td>\n",
       "    </tr>\n",
       "    <tr>\n",
       "      <th>3</th>\n",
       "      <td>charmander</td>\n",
       "      <td>https://pokeapi.co/api/v2/pokemon/4/</td>\n",
       "      <td>1731896595.9177911</td>\n",
       "      <td>rjKtrZV6GNgZpA</td>\n",
       "    </tr>\n",
       "    <tr>\n",
       "      <th>4</th>\n",
       "      <td>charmeleon</td>\n",
       "      <td>https://pokeapi.co/api/v2/pokemon/5/</td>\n",
       "      <td>1731896595.9177911</td>\n",
       "      <td>hLRxb5X8Y0ldcQ</td>\n",
       "    </tr>\n",
       "    <tr>\n",
       "      <th>...</th>\n",
       "      <td>...</td>\n",
       "      <td>...</td>\n",
       "      <td>...</td>\n",
       "      <td>...</td>\n",
       "    </tr>\n",
       "    <tr>\n",
       "      <th>75</th>\n",
       "      <td>pidgey</td>\n",
       "      <td>https://pokeapi.co/api/v2/pokemon/16/</td>\n",
       "      <td>1731898615.6941798</td>\n",
       "      <td>GSFrEDdRJLqtVA</td>\n",
       "    </tr>\n",
       "    <tr>\n",
       "      <th>76</th>\n",
       "      <td>pidgeotto</td>\n",
       "      <td>https://pokeapi.co/api/v2/pokemon/17/</td>\n",
       "      <td>1731898615.6941798</td>\n",
       "      <td>8fYctl/ciBYuQw</td>\n",
       "    </tr>\n",
       "    <tr>\n",
       "      <th>77</th>\n",
       "      <td>pidgeot</td>\n",
       "      <td>https://pokeapi.co/api/v2/pokemon/18/</td>\n",
       "      <td>1731898615.6941798</td>\n",
       "      <td>VSGQofJ6Jy5ExA</td>\n",
       "    </tr>\n",
       "    <tr>\n",
       "      <th>78</th>\n",
       "      <td>rattata</td>\n",
       "      <td>https://pokeapi.co/api/v2/pokemon/19/</td>\n",
       "      <td>1731898615.6941798</td>\n",
       "      <td>H8MB+cDhdKHhTQ</td>\n",
       "    </tr>\n",
       "    <tr>\n",
       "      <th>79</th>\n",
       "      <td>raticate</td>\n",
       "      <td>https://pokeapi.co/api/v2/pokemon/20/</td>\n",
       "      <td>1731898615.6941798</td>\n",
       "      <td>5Ye5+0hBRxvqaQ</td>\n",
       "    </tr>\n",
       "  </tbody>\n",
       "</table>\n",
       "<p>80 rows × 4 columns</p>\n",
       "</div>"
      ],
      "text/plain": [
       "          name                                    url        _dlt_load_id  \\\n",
       "0    bulbasaur   https://pokeapi.co/api/v2/pokemon/1/  1731896595.9177911   \n",
       "1      ivysaur   https://pokeapi.co/api/v2/pokemon/2/  1731896595.9177911   \n",
       "2     venusaur   https://pokeapi.co/api/v2/pokemon/3/  1731896595.9177911   \n",
       "3   charmander   https://pokeapi.co/api/v2/pokemon/4/  1731896595.9177911   \n",
       "4   charmeleon   https://pokeapi.co/api/v2/pokemon/5/  1731896595.9177911   \n",
       "..         ...                                    ...                 ...   \n",
       "75      pidgey  https://pokeapi.co/api/v2/pokemon/16/  1731898615.6941798   \n",
       "76   pidgeotto  https://pokeapi.co/api/v2/pokemon/17/  1731898615.6941798   \n",
       "77     pidgeot  https://pokeapi.co/api/v2/pokemon/18/  1731898615.6941798   \n",
       "78     rattata  https://pokeapi.co/api/v2/pokemon/19/  1731898615.6941798   \n",
       "79    raticate  https://pokeapi.co/api/v2/pokemon/20/  1731898615.6941798   \n",
       "\n",
       "           _dlt_id  \n",
       "0   WlQY0vfc6nscEg  \n",
       "1   2hEHcBikkvvC8A  \n",
       "2   D03afRmqOTz4/A  \n",
       "3   rjKtrZV6GNgZpA  \n",
       "4   hLRxb5X8Y0ldcQ  \n",
       "..             ...  \n",
       "75  GSFrEDdRJLqtVA  \n",
       "76  8fYctl/ciBYuQw  \n",
       "77  VSGQofJ6Jy5ExA  \n",
       "78  H8MB+cDhdKHhTQ  \n",
       "79  5Ye5+0hBRxvqaQ  \n",
       "\n",
       "[80 rows x 4 columns]"
      ]
     },
     "metadata": {},
     "output_type": "display_data"
    }
   ],
   "source": [
    "# Query the namespaced table\n",
    "df = conn.execute(\"SELECT * FROM pokemon_data_1.pokemon\").fetchdf()\n",
    "display(df)\n"
   ]
  },
  {
   "cell_type": "code",
   "execution_count": 28,
   "metadata": {},
   "outputs": [
    {
     "data": {
      "text/plain": [
       "┌──────────────────┬────────────────┬─────────────────────┬──────────────────────────────────────────────────────────────────────────────────────────────────┬─────────────────────────────────────────────────────────────────────────────────────────┬───────────┐\n",
       "│     database     │     schema     │        name         │                                           column_names                                           │                                      column_types                                       │ temporary │\n",
       "│     varchar      │    varchar     │       varchar       │                                            varchar[]                                             │                                        varchar[]                                        │  boolean  │\n",
       "├──────────────────┼────────────────┼─────────────────────┼──────────────────────────────────────────────────────────────────────────────────────────────────┼─────────────────────────────────────────────────────────────────────────────────────────┼───────────┤\n",
       "│ pokemon_pipeline │ pokemon_data_1 │ _dlt_loads          │ [load_id, schema_name, status, inserted_at, schema_version_hash]                                 │ [VARCHAR, VARCHAR, BIGINT, TIMESTAMP WITH TIME ZONE, VARCHAR]                           │ false     │\n",
       "│ pokemon_pipeline │ pokemon_data_1 │ _dlt_pipeline_state │ [version, engine_version, pipeline_name, state, created_at, version_hash, _dlt_load_id, _dlt_id] │ [BIGINT, BIGINT, VARCHAR, VARCHAR, TIMESTAMP WITH TIME ZONE, VARCHAR, VARCHAR, VARCHAR] │ false     │\n",
       "│ pokemon_pipeline │ pokemon_data_1 │ _dlt_version        │ [version, engine_version, inserted_at, schema_name, version_hash, schema]                        │ [BIGINT, BIGINT, TIMESTAMP WITH TIME ZONE, VARCHAR, VARCHAR, VARCHAR]                   │ false     │\n",
       "│ pokemon_pipeline │ pokemon_data_1 │ pokemon             │ [name, url, _dlt_load_id, _dlt_id]                                                               │ [VARCHAR, VARCHAR, VARCHAR, VARCHAR]                                                    │ false     │\n",
       "└──────────────────┴────────────────┴─────────────────────┴──────────────────────────────────────────────────────────────────────────────────────────────────┴─────────────────────────────────────────────────────────────────────────────────────────┴───────────┘"
      ]
     },
     "metadata": {},
     "output_type": "display_data"
    }
   ],
   "source": [
    "display(conn.sql(\"DESCRIBE\"))"
   ]
  },
  {
   "cell_type": "code",
   "execution_count": 32,
   "metadata": {},
   "outputs": [],
   "source": [
    "# conn.sql(f\"SET search_path = '(pipeline.dataset_name)'\")\n",
    "# stats_table = conn.sql(\"SELECT * FROM pokemon\").df()\n",
    "# display(stats_table)"
   ]
  },
  {
   "cell_type": "code",
   "execution_count": 31,
   "metadata": {},
   "outputs": [
    {
     "data": {
      "text/html": [
       "<div>\n",
       "<style scoped>\n",
       "    .dataframe tbody tr th:only-of-type {\n",
       "        vertical-align: middle;\n",
       "    }\n",
       "\n",
       "    .dataframe tbody tr th {\n",
       "        vertical-align: top;\n",
       "    }\n",
       "\n",
       "    .dataframe thead th {\n",
       "        text-align: right;\n",
       "    }\n",
       "</style>\n",
       "<table border=\"1\" class=\"dataframe\">\n",
       "  <thead>\n",
       "    <tr style=\"text-align: right;\">\n",
       "      <th></th>\n",
       "      <th>name</th>\n",
       "      <th>url</th>\n",
       "      <th>_dlt_load_id</th>\n",
       "      <th>_dlt_id</th>\n",
       "    </tr>\n",
       "  </thead>\n",
       "  <tbody>\n",
       "    <tr>\n",
       "      <th>0</th>\n",
       "      <td>bulbasaur</td>\n",
       "      <td>https://pokeapi.co/api/v2/pokemon/1/</td>\n",
       "      <td>1731896595.9177911</td>\n",
       "      <td>WlQY0vfc6nscEg</td>\n",
       "    </tr>\n",
       "    <tr>\n",
       "      <th>1</th>\n",
       "      <td>ivysaur</td>\n",
       "      <td>https://pokeapi.co/api/v2/pokemon/2/</td>\n",
       "      <td>1731896595.9177911</td>\n",
       "      <td>2hEHcBikkvvC8A</td>\n",
       "    </tr>\n",
       "    <tr>\n",
       "      <th>2</th>\n",
       "      <td>venusaur</td>\n",
       "      <td>https://pokeapi.co/api/v2/pokemon/3/</td>\n",
       "      <td>1731896595.9177911</td>\n",
       "      <td>D03afRmqOTz4/A</td>\n",
       "    </tr>\n",
       "    <tr>\n",
       "      <th>3</th>\n",
       "      <td>charmander</td>\n",
       "      <td>https://pokeapi.co/api/v2/pokemon/4/</td>\n",
       "      <td>1731896595.9177911</td>\n",
       "      <td>rjKtrZV6GNgZpA</td>\n",
       "    </tr>\n",
       "    <tr>\n",
       "      <th>4</th>\n",
       "      <td>charmeleon</td>\n",
       "      <td>https://pokeapi.co/api/v2/pokemon/5/</td>\n",
       "      <td>1731896595.9177911</td>\n",
       "      <td>hLRxb5X8Y0ldcQ</td>\n",
       "    </tr>\n",
       "    <tr>\n",
       "      <th>...</th>\n",
       "      <td>...</td>\n",
       "      <td>...</td>\n",
       "      <td>...</td>\n",
       "      <td>...</td>\n",
       "    </tr>\n",
       "    <tr>\n",
       "      <th>75</th>\n",
       "      <td>pidgey</td>\n",
       "      <td>https://pokeapi.co/api/v2/pokemon/16/</td>\n",
       "      <td>1731898615.6941798</td>\n",
       "      <td>GSFrEDdRJLqtVA</td>\n",
       "    </tr>\n",
       "    <tr>\n",
       "      <th>76</th>\n",
       "      <td>pidgeotto</td>\n",
       "      <td>https://pokeapi.co/api/v2/pokemon/17/</td>\n",
       "      <td>1731898615.6941798</td>\n",
       "      <td>8fYctl/ciBYuQw</td>\n",
       "    </tr>\n",
       "    <tr>\n",
       "      <th>77</th>\n",
       "      <td>pidgeot</td>\n",
       "      <td>https://pokeapi.co/api/v2/pokemon/18/</td>\n",
       "      <td>1731898615.6941798</td>\n",
       "      <td>VSGQofJ6Jy5ExA</td>\n",
       "    </tr>\n",
       "    <tr>\n",
       "      <th>78</th>\n",
       "      <td>rattata</td>\n",
       "      <td>https://pokeapi.co/api/v2/pokemon/19/</td>\n",
       "      <td>1731898615.6941798</td>\n",
       "      <td>H8MB+cDhdKHhTQ</td>\n",
       "    </tr>\n",
       "    <tr>\n",
       "      <th>79</th>\n",
       "      <td>raticate</td>\n",
       "      <td>https://pokeapi.co/api/v2/pokemon/20/</td>\n",
       "      <td>1731898615.6941798</td>\n",
       "      <td>5Ye5+0hBRxvqaQ</td>\n",
       "    </tr>\n",
       "  </tbody>\n",
       "</table>\n",
       "<p>80 rows × 4 columns</p>\n",
       "</div>"
      ],
      "text/plain": [
       "          name                                    url        _dlt_load_id  \\\n",
       "0    bulbasaur   https://pokeapi.co/api/v2/pokemon/1/  1731896595.9177911   \n",
       "1      ivysaur   https://pokeapi.co/api/v2/pokemon/2/  1731896595.9177911   \n",
       "2     venusaur   https://pokeapi.co/api/v2/pokemon/3/  1731896595.9177911   \n",
       "3   charmander   https://pokeapi.co/api/v2/pokemon/4/  1731896595.9177911   \n",
       "4   charmeleon   https://pokeapi.co/api/v2/pokemon/5/  1731896595.9177911   \n",
       "..         ...                                    ...                 ...   \n",
       "75      pidgey  https://pokeapi.co/api/v2/pokemon/16/  1731898615.6941798   \n",
       "76   pidgeotto  https://pokeapi.co/api/v2/pokemon/17/  1731898615.6941798   \n",
       "77     pidgeot  https://pokeapi.co/api/v2/pokemon/18/  1731898615.6941798   \n",
       "78     rattata  https://pokeapi.co/api/v2/pokemon/19/  1731898615.6941798   \n",
       "79    raticate  https://pokeapi.co/api/v2/pokemon/20/  1731898615.6941798   \n",
       "\n",
       "           _dlt_id  \n",
       "0   WlQY0vfc6nscEg  \n",
       "1   2hEHcBikkvvC8A  \n",
       "2   D03afRmqOTz4/A  \n",
       "3   rjKtrZV6GNgZpA  \n",
       "4   hLRxb5X8Y0ldcQ  \n",
       "..             ...  \n",
       "75  GSFrEDdRJLqtVA  \n",
       "76  8fYctl/ciBYuQw  \n",
       "77  VSGQofJ6Jy5ExA  \n",
       "78  H8MB+cDhdKHhTQ  \n",
       "79  5Ye5+0hBRxvqaQ  \n",
       "\n",
       "[80 rows x 4 columns]"
      ]
     },
     "metadata": {},
     "output_type": "display_data"
    }
   ],
   "source": [
    "# Set the search path dynamically to the dataset name used in the pipeline\n",
    "conn.execute(f\"SET search_path = '{pipeline.dataset_name}'\")\n",
    "\n",
    "# Now, you can query the table without specifying the schema\n",
    "stats_table = conn.execute(\"SELECT * FROM pokemon\").fetchdf()\n",
    "display(stats_table)\n"
   ]
  },
  {
   "cell_type": "code",
   "execution_count": null,
   "metadata": {},
   "outputs": [],
   "source": []
  },
  {
   "cell_type": "code",
   "execution_count": null,
   "metadata": {},
   "outputs": [],
   "source": []
  }
 ],
 "metadata": {
  "kernelspec": {
   "display_name": "General",
   "language": "python",
   "name": "python3"
  },
  "language_info": {
   "codemirror_mode": {
    "name": "ipython",
    "version": 3
   },
   "file_extension": ".py",
   "mimetype": "text/x-python",
   "name": "python",
   "nbconvert_exporter": "python",
   "pygments_lexer": "ipython3",
   "version": "3.11.10"
  }
 },
 "nbformat": 4,
 "nbformat_minor": 2
}
