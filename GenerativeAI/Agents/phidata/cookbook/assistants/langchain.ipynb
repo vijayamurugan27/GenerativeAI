{
 "cells": [
  {
   "cell_type": "code",
   "execution_count": null,
   "metadata": {},
   "outputs": [],
   "source": [
    "print(\"hello world\")"
   ]
  },
  {
   "cell_type": "code",
   "execution_count": null,
   "metadata": {},
   "outputs": [],
   "source": [
    "from pathlib import Path\n",
    "from phi.assistant import Assistant\n",
    "from phi.knowledge.langchain import LangChainKnowledgeBase"
   ]
  }
 ],
 "metadata": {
  "kernelspec": {
   "display_name": "phidata",
   "language": "python",
   "name": "python3"
  },
  "language_info": {
   "name": "python",
   "version": "3.11.10"
  }
 },
 "nbformat": 4,
 "nbformat_minor": 2
}
