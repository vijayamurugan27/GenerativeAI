{
  "cells": [
    {
      "cell_type": "markdown",
      "metadata": {
        "id": "view-in-github",
        "colab_type": "text"
      },
      "source": [
        "<a href=\"https://colab.research.google.com/github/vijayamurugan27/GenerativeAI/blob/main/Chatbot_%2B_Memory_%2B_Tools.ipynb\" target=\"_parent\"><img src=\"https://colab.research.google.com/assets/colab-badge.svg\" alt=\"Open In Colab\"/></a>"
      ]
    },
    {
      "cell_type": "code",
      "execution_count": 1,
      "metadata": {
        "colab": {
          "base_uri": "https://localhost:8080/"
        },
        "id": "lmEwrE6KskQw",
        "outputId": "91779044-a268-49cf-c9a6-d36fba27096e"
      },
      "outputs": [
        {
          "output_type": "stream",
          "name": "stdout",
          "text": [
            "\u001b[2K   \u001b[90m━━━━━━━━━━━━━━━━━━━━━━━━━━━━━━━━━━━━━━━━\u001b[0m \u001b[32m57.1/57.1 MB\u001b[0m \u001b[31m14.2 MB/s\u001b[0m eta \u001b[36m0:00:00\u001b[0m\n",
            "\u001b[2K   \u001b[90m━━━━━━━━━━━━━━━━━━━━━━━━━━━━━━━━━━━━━━━━\u001b[0m \u001b[32m320.1/320.1 kB\u001b[0m \u001b[31m17.9 MB/s\u001b[0m eta \u001b[36m0:00:00\u001b[0m\n",
            "\u001b[2K   \u001b[90m━━━━━━━━━━━━━━━━━━━━━━━━━━━━━━━━━━━━━━━━\u001b[0m \u001b[32m94.9/94.9 kB\u001b[0m \u001b[31m7.2 MB/s\u001b[0m eta \u001b[36m0:00:00\u001b[0m\n",
            "\u001b[2K   \u001b[90m━━━━━━━━━━━━━━━━━━━━━━━━━━━━━━━━━━━━━━━━\u001b[0m \u001b[32m108.9/108.9 kB\u001b[0m \u001b[31m7.6 MB/s\u001b[0m eta \u001b[36m0:00:00\u001b[0m\n",
            "\u001b[2K   \u001b[90m━━━━━━━━━━━━━━━━━━━━━━━━━━━━━━━━━━━━━━━━\u001b[0m \u001b[32m11.1/11.1 MB\u001b[0m \u001b[31m67.6 MB/s\u001b[0m eta \u001b[36m0:00:00\u001b[0m\n",
            "\u001b[2K   \u001b[90m━━━━━━━━━━━━━━━━━━━━━━━━━━━━━━━━━━━━━━━━\u001b[0m \u001b[32m73.2/73.2 kB\u001b[0m \u001b[31m4.7 MB/s\u001b[0m eta \u001b[36m0:00:00\u001b[0m\n",
            "\u001b[2K   \u001b[90m━━━━━━━━━━━━━━━━━━━━━━━━━━━━━━━━━━━━━━━━\u001b[0m \u001b[32m63.8/63.8 kB\u001b[0m \u001b[31m4.6 MB/s\u001b[0m eta \u001b[36m0:00:00\u001b[0m\n",
            "\u001b[2K   \u001b[90m━━━━━━━━━━━━━━━━━━━━━━━━━━━━━━━━━━━━━━━━\u001b[0m \u001b[32m130.2/130.2 kB\u001b[0m \u001b[31m9.9 MB/s\u001b[0m eta \u001b[36m0:00:00\u001b[0m\n",
            "\u001b[?25h"
          ]
        }
      ],
      "source": [
        "!pip install -U -q langchain_groq gradio"
      ]
    },
    {
      "cell_type": "code",
      "execution_count": 2,
      "metadata": {
        "id": "OmHdfrFqsvMK"
      },
      "outputs": [],
      "source": [
        "from langchain_groq import ChatGroq\n",
        "from google.colab import userdata\n",
        "llm_groq = ChatGroq(model_name=\"llama3-70b-8192\", api_key=userdata.get(\"GROQ_API_KEY\"))"
      ]
    },
    {
      "cell_type": "code",
      "execution_count": 3,
      "metadata": {
        "id": "4AdRribGx9We"
      },
      "outputs": [],
      "source": [
        "import json\n",
        "import datetime\n",
        "def submit_complaint(complaint, name):\n",
        "    issues = []\n",
        "    try:\n",
        "        with open('issues.json', 'r') as f:\n",
        "            issues = json.load(f)\n",
        "    except FileNotFoundError:\n",
        "        pass  # If the file doesn't exist, we'll create it below\n",
        "\n",
        "    # Adding the new issue\n",
        "    issues.append({'name': name, 'issue': complaint, 'timestamp': datetime.datetime.now().strftime('%Y-%m-%d %H:%M:%S')})\n",
        "\n",
        "    # Saving the updated issues list\n",
        "    with open('issues.json', 'w') as f:\n",
        "        json.dump(issues, f, indent=4)\n",
        "\n",
        "    return json.dumps({\"success\": \"Issue submitted successfully.\"})\n",
        "\n",
        "def calculate(expression):\n",
        "    try:\n",
        "        # Prepare a local namespace to safely execute the expression\n",
        "        local_namespace = {}\n",
        "\n",
        "        # Execute the expression using exec\n",
        "        exec(expression, {}, local_namespace)\n",
        "\n",
        "        # Return the result if it's stored in a specific variable\n",
        "        return local_namespace.get('result', \"No result found\")\n",
        "\n",
        "    except Exception as e:\n",
        "        return f\"Error in calculation: {e}\""
      ]
    },
    {
      "cell_type": "code",
      "execution_count": 4,
      "metadata": {
        "id": "iRuknIrys4gx"
      },
      "outputs": [],
      "source": [
        "class Chatbot:\n",
        "    prompt = \"\"\"\n",
        "    You operate in a structured loop consisting of the following steps: Thought, Action, PAUSE, and Observation. At the end of this loop, you will output an Answer. Follow this process meticulously:\n",
        "\n",
        "\t1.\tThought: Use this step to articulate your reasoning about the question or task you’ve been asked to handle. Think through the problem and decide which action to take next.\n",
        "\t2.\tAction: Choose and execute one of the available actions based on your Thought. Once you initiate an action, return PAUSE to wait for further instructions.\n",
        "\t3.\tObservation: This will contain the outcome or result of the Action you took. Use this information to inform your next step.\n",
        "\t4.\tAnswer: After sufficient loops of Thought, Action, PAUSE, and Observation, when the task is completed, provide a final Answer to the user.\n",
        "\n",
        "Available Actions:\n",
        "\n",
        "\t•\tcalculate:\n",
        "\t•\tUsage: calculate:\n",
        "\t•\tParameter: expression — a mathematical expression in Python.\n",
        "\t•\tFunction: Evaluates the expression and returns the result. Make sure to use floating-point syntax if necessary.\n",
        "  •\timport math if it uses math functions. make sure the expression returns something like result = math.log(2 * math.sqrt(36))\n",
        "\t•\tsubmit_complaint:\n",
        "\t•\tUsage: submit_complaint\n",
        "\t•\tParameters:\n",
        "\t•\tcomplaint_text (str) — The content of the complaint.\n",
        "\t•\tperson_name (str) — The name of the person submitting the complaint.\n",
        "\t•\tFunction: Submits the complaint. If person_name is missing, ask for the person’s name and return PAUSE.\n",
        "\n",
        "Process Guidelines:\n",
        "\n",
        "\t•\tIf a user requests to submit a complaint but doesn’t provide their name, ask for their name, then return PAUSE.\n",
        "\t•\tIf the request or question does not align with any of the available actions, proceed with a normal conversation.\n",
        "\n",
        "Example Session:\n",
        "\n",
        "Question: Submit a complaint about Microsoft Office 365. My name is Balaji\n",
        "\n",
        "Thought: I should submit a complaint about Microsoft Office 365 with the person’s name, Balaji.\n",
        "\n",
        "Action: submit_complaint | complaint_text: Microsoft Office 365 | person_name: Balaji\n",
        "\n",
        "PAUSE\n",
        "\n",
        "On the next call, you will receive an Observation:\n",
        "\n",
        "Observation: The issue is submitted successfully.\n",
        "\n",
        "Answer: Your complaint about Microsoft Office 365 has been submitted successfully, Balaji.\n",
        "\n",
        "Important Notes:\n",
        "\n",
        "\t•\tFollow the loop of Thought → Action → PAUSE → Observation until the task is completed.\n",
        "\t•\tOnly provide the final Answer after processing all necessary steps.\n",
        "\t•\tIf the situation doesn’t match any of the defined actions, handle it as a normal conversation.\n",
        "\n",
        "            \"\"\"\n",
        "\n",
        "    def __init__(self):\n",
        "      self.messages = [] # setting up a basic memory\n",
        "      self.messages.append({\"role\": \"system\", \"content\": self.prompt})\n",
        "\n",
        "    def __call__(self, user_message):\n",
        "      self.messages.append({\"role\": \"user\", \"content\": user_message})\n",
        "      ai_message = llm_groq.invoke(self.messages)\n",
        "      self.messages.append({\"role\": \"assistant\", \"content\": ai_message.content})\n",
        "      return ai_message.content"
      ]
    },
    {
      "cell_type": "code",
      "execution_count": 5,
      "metadata": {
        "colab": {
          "base_uri": "https://localhost:8080/",
          "height": 70
        },
        "id": "gUh2bMFTsaWP",
        "outputId": "394e64ed-c76b-450f-efdd-baa8e590c437"
      },
      "outputs": [
        {
          "output_type": "execute_result",
          "data": {
            "text/plain": [
              "\"Thought: I should submit a complaint about Microsoft Office 365 with the person's name, Balaji.\\n\\nAction: submit_complaint | complaint_text: Microsoft Office 365 | person_name: Balaji\\n\\nPAUSE\""
            ],
            "application/vnd.google.colaboratory.intrinsic+json": {
              "type": "string"
            }
          },
          "metadata": {},
          "execution_count": 5
        }
      ],
      "source": [
        "bot = Chatbot()\n",
        "response = bot(\"submit a complaint about Microsoft Office 365. My name is Balaji\")\n",
        "response"
      ]
    },
    {
      "cell_type": "code",
      "execution_count": 6,
      "metadata": {
        "colab": {
          "base_uri": "https://localhost:8080/",
          "height": 159
        },
        "id": "neOc2UB7Wmkw",
        "outputId": "0b060f0a-7a40-4f0f-9ed5-e88a0e78dbff"
      },
      "outputs": [
        {
          "output_type": "execute_result",
          "data": {
            "text/plain": [
              "\"Thought: It seems like the user is seeking guidance and direction in life. I need to provide a supportive and non-judgmental response to help them feel heard and understood.\\n\\nAction: I'll respond with a empathetic message to acknowledge their feelings and encourage them to share more about their concerns.\\n\\nOutput: I totally understand how overwhelming it can feel when you're unsure about the direction of your life. It takes a lot of courage to admit that, and I'm here to listen and help in any way I can. Could you tell me more about what's been going on that's making you feel this way?\\n\\nPAUSE\""
            ],
            "application/vnd.google.colaboratory.intrinsic+json": {
              "type": "string"
            }
          },
          "metadata": {},
          "execution_count": 6
        }
      ],
      "source": [
        "bot = Chatbot()\n",
        "response = bot(\"I don't know what to do in life. HElp me with some guidance.\")\n",
        "response"
      ]
    },
    {
      "cell_type": "code",
      "execution_count": 7,
      "metadata": {
        "colab": {
          "base_uri": "https://localhost:8080/",
          "height": 88
        },
        "id": "1PtRCeTD7CvW",
        "outputId": "bb9bc759-8615-457f-cf92-413fb986729d"
      },
      "outputs": [
        {
          "output_type": "execute_result",
          "data": {
            "text/plain": [
              "'Thought: The user wants me to calculate the logarithm of 2 times the square root of 36. I need to use the calculate action to evaluate this mathematical expression.\\n\\nAction: calculate | expression: import math; result = math.log(2 * math.sqrt(36))\\n\\nPAUSE'"
            ],
            "application/vnd.google.colaboratory.intrinsic+json": {
              "type": "string"
            }
          },
          "metadata": {},
          "execution_count": 7
        }
      ],
      "source": [
        "response = bot(\"find log of 2 times square root of 36\")\n",
        "response"
      ]
    },
    {
      "cell_type": "code",
      "execution_count": 8,
      "metadata": {
        "id": "6YJ7p8m71uHa"
      },
      "outputs": [],
      "source": [
        "import re\n",
        "# Extract the Action part\n",
        "def handle_action(response):\n",
        "    action_match = re.search(r'Action: ([^\\n]+)', response)\n",
        "    action = action_match.group(1).strip() if action_match else None\n",
        "\n",
        "    # Initialize empty parameters dictionary\n",
        "    params = {}\n",
        "\n",
        "    if action:\n",
        "        # Check if it's a 'calculate' action\n",
        "        if action.startswith(\"calculate:\"):\n",
        "            # Extract the full calculation expression after 'calculate:'\n",
        "            calculation_expression = action.split(\"calculate:\", 1)[1].strip()\n",
        "            params['expression'] = calculation_expression\n",
        "\n",
        "        # If action includes parameters (like in a complaint), split by '|'\n",
        "        elif '|' in action:\n",
        "            parts = action.split('|')\n",
        "            action = parts[0].strip()\n",
        "\n",
        "            for part in parts[1:]:\n",
        "                key_value = part.split(':', 1)  # Split only on the first ':'\n",
        "                if len(key_value) == 2:\n",
        "                    params[key_value[0].strip()] = key_value[1].strip()\n",
        "\n",
        "    print(f\"Action: {action}\")\n",
        "    print(f\"Parameters: {params}\")\n",
        "\n",
        "    if action == \"submit_complaint\":\n",
        "        complaint = params.get('complaint_text')\n",
        "        name = params.get('person_name')\n",
        "        if complaint and name:\n",
        "            action_response = submit_complaint(complaint=complaint, name=name)\n",
        "            return response + \"\\n\" + action_response\n",
        "        else:\n",
        "            return response + \"\\n\" + \"Error: Missing complaint_text or person_name\"\n",
        "\n",
        "    elif action.startswith(\"calculate\"):\n",
        "        expression = params.get('expression')\n",
        "        action_response = calculate(expression=expression)\n",
        "        return response + \"\\n\" + str(action_response)\n",
        "\n",
        "    else:\n",
        "        return response  # there is no action here, return the original response"
      ]
    },
    {
      "cell_type": "code",
      "execution_count": null,
      "metadata": {
        "colab": {
          "background_save": true,
          "base_uri": "https://localhost:8080/",
          "height": 859
        },
        "id": "jZxuYM_ctY57",
        "outputId": "1cd9f455-9c5c-455c-df85-e108198a2a31"
      },
      "outputs": [
        {
          "output_type": "stream",
          "name": "stderr",
          "text": [
            "/usr/local/lib/python3.10/dist-packages/gradio/components/chatbot.py:231: UserWarning: The 'tuples' format for chatbot messages is deprecated and will be removed in a future version of Gradio. Please set type='messages' instead, which uses openai-style 'role' and 'content' keys.\n",
            "  warnings.warn(\n"
          ]
        },
        {
          "output_type": "stream",
          "name": "stdout",
          "text": [
            "Running Gradio in a Colab notebook requires sharing enabled. Automatically setting `share=True` (you can turn this off by setting `share=False` in `launch()` explicitly).\n",
            "\n",
            "Colab notebook detected. This cell will run indefinitely so that you can see errors and logs. To turn off, set debug=False in launch().\n",
            "* Running on public URL: https://131df8528ea844009c.gradio.live\n",
            "\n",
            "This share link expires in 72 hours. For free permanent hosting and GPU upgrades, run `gradio deploy` from the terminal in the working directory to deploy to Hugging Face Spaces (https://huggingface.co/spaces)\n"
          ]
        },
        {
          "output_type": "display_data",
          "data": {
            "text/plain": [
              "<IPython.core.display.HTML object>"
            ],
            "text/html": [
              "<div><iframe src=\"https://131df8528ea844009c.gradio.live\" width=\"100%\" height=\"500\" allow=\"autoplay; camera; microphone; clipboard-read; clipboard-write;\" frameborder=\"0\" allowfullscreen></iframe></div>"
            ]
          },
          "metadata": {}
        },
        {
          "output_type": "stream",
          "name": "stdout",
          "text": [
            "Action: calculate\n",
            "Parameters: {'expression': '343 ** (1/3)'}\n",
            "Action: calculate\n",
            "Parameters: {'expression': 'import math; result = math.sqrt(25)'}\n",
            "Action: calculate\n",
            "Parameters: {'expression': '56 ** 2'}\n",
            "Action: submit_complaint\n",
            "Parameters: {}\n",
            "Action: submit_complaint\n",
            "Parameters: {'complaint_text': 'Internet connection has been down for the past three days', 'person_name': 'Vijayamurugan'}\n"
          ]
        }
      ],
      "source": [
        "import gradio as gr\n",
        "bot = Chatbot()\n",
        "def chat(message, history):\n",
        "    response = bot(message)\n",
        "    return handle_action(response)\n",
        "\n",
        "demo = gr.ChatInterface(\n",
        "    fn=chat,\n",
        "    title=\"Simple Chatbot\",\n",
        "    description=\"This is a chatbot built as part of Modern AI Pro Essentials program\",\n",
        ")\n",
        "demo.launch(debug=True)"
      ]
    }
  ],
  "metadata": {
    "colab": {
      "provenance": [],
      "include_colab_link": true
    },
    "kernelspec": {
      "display_name": "Python 3",
      "name": "python3"
    },
    "language_info": {
      "name": "python"
    }
  },
  "nbformat": 4,
  "nbformat_minor": 0
}